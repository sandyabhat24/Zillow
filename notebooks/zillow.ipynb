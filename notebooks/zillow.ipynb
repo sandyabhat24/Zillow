{
 "cells": [
  {
   "cell_type": "markdown",
   "metadata": {},
   "source": [
    "## Background"
   ]
  },
  {
   "cell_type": "markdown",
   "metadata": {},
   "source": [
    "Zillow’s Zestimate home valuation has shaken up the U.S. real estate industry since first released 11 years ago.\n",
    "\n",
    "A home is often the largest and most expensive purchase a person makes in his or her lifetime. Ensuring homeowners have a trusted way to monitor this asset is incredibly important. The Zestimate was created to give consumers as much information as possible about homes and the housing market, marking the first time consumers had access to this type of home value information at no cost.\n",
    "\n",
    "“Zestimates” are estimated home values based on 7.5 million statistical and machine learning models that analyze hundreds of data points on each property. And, by continually improving the median margin of error (from 14% at the onset to 5% today), Zillow has since become established as one of the largest, most trusted marketplaces for real estate information in the U.S. and a leading example of impactful machine learning."
   ]
  },
  {
   "cell_type": "markdown",
   "metadata": {},
   "source": [
    "### Objective:"
   ]
  },
  {
   "cell_type": "markdown",
   "metadata": {},
   "source": [
    "Build a model to improve the Zestimate residual error. "
   ]
  },
  {
   "cell_type": "markdown",
   "metadata": {},
   "source": [
    "### Client"
   ]
  },
  {
   "cell_type": "code",
   "execution_count": 42,
   "metadata": {},
   "outputs": [
    {
     "ename": "ModuleNotFoundError",
     "evalue": "No module named 'tqdm'",
     "output_type": "error",
     "traceback": [
      "\u001b[1;31m---------------------------------------------------------------------------\u001b[0m",
      "\u001b[1;31mModuleNotFoundError\u001b[0m                       Traceback (most recent call last)",
      "\u001b[1;32m<ipython-input-42-d2865b353781>\u001b[0m in \u001b[0;36m<module>\u001b[1;34m()\u001b[0m\n\u001b[0;32m      9\u001b[0m \u001b[1;32mimport\u001b[0m \u001b[0mdatetime\u001b[0m\u001b[1;33m\u001b[0m\u001b[0m\n\u001b[0;32m     10\u001b[0m \u001b[1;32mfrom\u001b[0m \u001b[0mcatboost\u001b[0m \u001b[1;32mimport\u001b[0m \u001b[0mCatBoostRegressor\u001b[0m\u001b[1;33m\u001b[0m\u001b[0m\n\u001b[1;32m---> 11\u001b[1;33m \u001b[1;32mfrom\u001b[0m \u001b[0mtqdm\u001b[0m \u001b[1;32mimport\u001b[0m \u001b[0mtqdm\u001b[0m\u001b[1;33m\u001b[0m\u001b[0m\n\u001b[0m\u001b[0;32m     12\u001b[0m \u001b[0mget_ipython\u001b[0m\u001b[1;33m(\u001b[0m\u001b[1;33m)\u001b[0m\u001b[1;33m.\u001b[0m\u001b[0mrun_line_magic\u001b[0m\u001b[1;33m(\u001b[0m\u001b[1;34m'matplotlib'\u001b[0m\u001b[1;33m,\u001b[0m \u001b[1;34m'inline'\u001b[0m\u001b[1;33m)\u001b[0m\u001b[1;33m\u001b[0m\u001b[0m\n\u001b[0;32m     13\u001b[0m \u001b[1;33m\u001b[0m\u001b[0m\n",
      "\u001b[1;31mModuleNotFoundError\u001b[0m: No module named 'tqdm'"
     ]
    }
   ],
   "source": [
    "import numpy as np # linear algebra\n",
    "import pandas as pd # data processing, CSV file I/O (e.g. pd.read_csv)\n",
    "import matplotlib.pyplot as plt\n",
    "import seaborn as sns\n",
    "from sklearn import linear_model\n",
    "from sklearn.metrics import confusion_matrix,accuracy_score\n",
    "import re\n",
    "color = sns.color_palette()\n",
    "import datetime\n",
    "from catboost import CatBoostRegressor\n",
    "\n",
    "%matplotlib inline\n",
    "\n",
    "pd.options.mode.chained_assignment = None\n",
    "pd.options.display.max_columns = 999\n"
   ]
  },
  {
   "cell_type": "markdown",
   "metadata": {},
   "source": [
    "#### Reading the dataset"
   ]
  },
  {
   "cell_type": "code",
   "execution_count": 12,
   "metadata": {
    "scrolled": true
   },
   "outputs": [
    {
     "name": "stderr",
     "output_type": "stream",
     "text": [
      "C:\\Users\\Lenovo\\Anaconda3\\lib\\site-packages\\IPython\\core\\interactiveshell.py:2728: DtypeWarning: Columns (22,32,34,49,55) have mixed types. Specify dtype option on import or set low_memory=False.\n",
      "  interactivity=interactivity, compiler=compiler, result=result)\n"
     ]
    }
   ],
   "source": [
    "train=pd.read_csv('C:/Users/Lenovo/Downloads/all/train_2016_v2.csv')\n",
    "properties=pd.read_csv('C:/Users/Lenovo/Downloads/all/properties_2016.csv')\n",
    "sample=pd.read_csv('C:/Users/Lenovo/Downloads/all/sample_submission.csv')\n",
    "#, parse_dates=['transactiondate']"
   ]
  },
  {
   "cell_type": "code",
   "execution_count": 13,
   "metadata": {},
   "outputs": [],
   "source": [
    "\n",
    "for c, dtype in zip(properties.columns, properties.dtypes):\n",
    "    if dtype == np.float64:\n",
    "        properties[c] = properties[c].astype(np.float32)\n",
    "        \n",
    "train_merge = train.merge(properties, how='left', on='parcelid')"
   ]
  },
  {
   "cell_type": "markdown",
   "metadata": {},
   "source": [
    "### Data wrangling:"
   ]
  },
  {
   "cell_type": "code",
   "execution_count": 14,
   "metadata": {},
   "outputs": [
    {
     "name": "stdout",
     "output_type": "stream",
     "text": [
      "<class 'pandas.core.frame.DataFrame'>\n",
      "Int64Index: 90275 entries, 0 to 90274\n",
      "Data columns (total 60 columns):\n",
      "parcelid                        90275 non-null int64\n",
      "logerror                        90275 non-null float64\n",
      "transactiondate                 90275 non-null object\n",
      "airconditioningtypeid           28781 non-null float32\n",
      "architecturalstyletypeid        261 non-null float32\n",
      "basementsqft                    43 non-null float32\n",
      "bathroomcnt                     90275 non-null float32\n",
      "bedroomcnt                      90275 non-null float32\n",
      "buildingclasstypeid             16 non-null float32\n",
      "buildingqualitytypeid           57364 non-null float32\n",
      "calculatedbathnbr               89093 non-null float32\n",
      "decktypeid                      658 non-null float32\n",
      "finishedfloor1squarefeet        6856 non-null float32\n",
      "calculatedfinishedsquarefeet    89614 non-null float32\n",
      "finishedsquarefeet12            85596 non-null float32\n",
      "finishedsquarefeet13            33 non-null float32\n",
      "finishedsquarefeet15            3564 non-null float32\n",
      "finishedsquarefeet50            6856 non-null float32\n",
      "finishedsquarefeet6             421 non-null float32\n",
      "fips                            90275 non-null float32\n",
      "fireplacecnt                    9607 non-null float32\n",
      "fullbathcnt                     89093 non-null float32\n",
      "garagecarcnt                    29937 non-null float32\n",
      "garagetotalsqft                 29937 non-null float32\n",
      "hashottuborspa                  2365 non-null object\n",
      "heatingorsystemtypeid           56080 non-null float32\n",
      "latitude                        90275 non-null float32\n",
      "longitude                       90275 non-null float32\n",
      "lotsizesquarefeet               80125 non-null float32\n",
      "poolcnt                         17901 non-null float32\n",
      "poolsizesum                     969 non-null float32\n",
      "pooltypeid10                    1161 non-null float32\n",
      "pooltypeid2                     1204 non-null float32\n",
      "pooltypeid7                     16697 non-null float32\n",
      "propertycountylandusecode       90274 non-null object\n",
      "propertylandusetypeid           90275 non-null float32\n",
      "propertyzoningdesc              58313 non-null object\n",
      "rawcensustractandblock          90275 non-null float32\n",
      "regionidcity                    88472 non-null float32\n",
      "regionidcounty                  90275 non-null float32\n",
      "regionidneighborhood            36012 non-null float32\n",
      "regionidzip                     90240 non-null float32\n",
      "roomcnt                         90275 non-null float32\n",
      "storytypeid                     43 non-null float32\n",
      "threequarterbathnbr             12009 non-null float32\n",
      "typeconstructiontypeid          299 non-null float32\n",
      "unitcnt                         58353 non-null float32\n",
      "yardbuildingsqft17              2646 non-null float32\n",
      "yardbuildingsqft26              95 non-null float32\n",
      "yearbuilt                       89519 non-null float32\n",
      "numberofstories                 20570 non-null float32\n",
      "fireplaceflag                   222 non-null object\n",
      "structuretaxvaluedollarcnt      89895 non-null float32\n",
      "taxvaluedollarcnt               90274 non-null float32\n",
      "assessmentyear                  90275 non-null float32\n",
      "landtaxvaluedollarcnt           90274 non-null float32\n",
      "taxamount                       90269 non-null float32\n",
      "taxdelinquencyflag              1783 non-null object\n",
      "taxdelinquencyyear              1783 non-null float32\n",
      "censustractandblock             89670 non-null float32\n",
      "dtypes: float32(52), float64(1), int64(1), object(6)\n",
      "memory usage: 24.1+ MB\n"
     ]
    }
   ],
   "source": [
    "train_merge.info()"
   ]
  },
  {
   "cell_type": "markdown",
   "metadata": {},
   "source": [
    "It looks like lot of columns has misssing value. We need to do more investigation on whether to retain the columns or discard them."
   ]
  },
  {
   "cell_type": "markdown",
   "metadata": {},
   "source": [
    "### Data wrangling for  missing data fields"
   ]
  },
  {
   "cell_type": "code",
   "execution_count": 15,
   "metadata": {},
   "outputs": [
    {
     "name": "stdout",
     "output_type": "stream",
     "text": [
      "We exclude: ['architecturalstyletypeid', 'basementsqft', 'buildingclasstypeid', 'decktypeid', 'finishedsquarefeet13', 'finishedsquarefeet6', 'storytypeid', 'typeconstructiontypeid', 'yardbuildingsqft26', 'fireplaceflag']\n",
      "10\n"
     ]
    }
   ],
   "source": [
    "missing_perc_thresh = 0.99\n",
    "exclude_missing = []\n",
    "num_rows = train_merge.shape[0]\n",
    "for c in train_merge.columns:\n",
    "    num_missing = train_merge[c].isnull().sum()\n",
    "    if num_missing == 0:\n",
    "        continue\n",
    "    missing_frac = num_missing / float(num_rows)\n",
    "    if missing_frac > missing_perc_thresh:\n",
    "        exclude_missing.append(c)\n",
    "print(\"We exclude: %s\" % exclude_missing)\n",
    "print(len(exclude_missing))"
   ]
  },
  {
   "cell_type": "markdown",
   "metadata": {},
   "source": [
    "Four columns have 99.9% missing values.\n",
    "\n",
    "Let's start off by potentially removing some 'redundant' variables and then some others ones which are 'easy' to fix"
   ]
  },
  {
   "cell_type": "code",
   "execution_count": 16,
   "metadata": {},
   "outputs": [],
   "source": [
    "#'calculatedfinishedsquarefeet' has the fewest missing values so lets remove the others, note also that except for 'finishedsquarefeet12' the rest have large amount of missing values anyways. \n",
    "dropcols = ['finishedsquarefeet12', 'finishedsquarefeet15']\n",
    "\n",
    "#finishedsquarefeet50 and finishedfloor1squarefeet are the exactly the same information according to the dictionary descriptions, lets remove finishedsquarefeet50 as it has more missing values\n",
    "dropcols.append('finishedsquarefeet50')\n",
    "\n",
    "#'bathroomcnt' and 'calculatedbathnbr' and 'fullbathcnt' seem to be the same information aswell according to the dictionary descriptions. Choose 'bathroomcnt' as has no missing values, so remove the other two\n",
    "dropcols.append('calculatedbathnbr')\n",
    "dropcols.append('fullbathcnt')"
   ]
  },
  {
   "cell_type": "code",
   "execution_count": 17,
   "metadata": {},
   "outputs": [
    {
     "name": "stdout",
     "output_type": "stream",
     "text": [
      "None    87910\n",
      "True     2365\n",
      "Name: hashottuborspa, dtype: int64\n",
      "1.0    1161\n",
      "Name: pooltypeid10, dtype: int64\n"
     ]
    }
   ],
   "source": [
    "#The below variables are flags and lets assume if they are NA's it means the object does not exist so lets fix this\n",
    "index = train_merge.hashottuborspa.isnull()\n",
    "train_merge.loc[index,'hashottuborspa'] = \"None\"\n",
    "\n",
    "# pooltypeid10(does home have a Spa or hot tub) seems to be inconcistent with the 'hashottuborspa' field - these two fields should have the same information I assume?\n",
    "print(train_merge.hashottuborspa.value_counts())\n",
    "print(train_merge.pooltypeid10.value_counts())\n",
    "\n",
    "\n",
    "#Assume if the pooltype id is null then pool/hottub doesnt exist \n",
    "index = train_merge.pooltypeid2.isnull()\n",
    "train_merge.loc[index,'pooltypeid2'] = 0\n",
    "\n",
    "index = train_merge.pooltypeid7.isnull()\n",
    "train_merge.loc[index,'pooltypeid7'] = 0\n",
    "\n",
    "index = train_merge.poolcnt.isnull()\n",
    "train_merge.loc[index,'poolcnt'] = 0\n",
    "\n",
    "index = train_merge.fireplacecnt.isnull()\n",
    "train_merge.loc[index,'fireplacecnt'] = 0\n"
   ]
  },
  {
   "cell_type": "code",
   "execution_count": 18,
   "metadata": {},
   "outputs": [
    {
     "name": "stdout",
     "output_type": "stream",
     "text": [
      "89306\n",
      "0.0    72374\n",
      "1.0    17901\n",
      "Name: poolcnt, dtype: int64\n"
     ]
    }
   ],
   "source": [
    "#Theres more missing values in the 'poolsizesum' then in 'poolcnt', Let's fill in median values for poolsizesum where pool count is >0 and missing. I think this is sensible assumption as residential pool sizes are fairly standard size I guess in the U.S.\n",
    "#Also the poolsizesum doesn't seem to be much of an important variable based on the heat map so imputing with the median hopefully won't cause too much of an issue\n",
    "print(train_merge.poolsizesum.isnull().sum())\n",
    "print(train_merge.poolcnt.value_counts())\n",
    "\n",
    "#Fill in those properties that have a pool with median pool value\n",
    "poolsizesum_median = train_merge.loc[train_merge['poolcnt'] > 0, 'poolsizesum'].median()\n",
    "train_merge.loc[(train_merge['poolcnt'] > 0) & (train_merge['poolsizesum'].isnull()), 'poolsizesum'] = poolsizesum_median\n",
    "\n",
    "#If it doesn't have a pool then poolsizesum is 0 by default\n",
    "train_merge.loc[(train_merge['poolcnt'] == 0), 'poolsizesum'] = 0\n",
    "\n"
   ]
  },
  {
   "cell_type": "markdown",
   "metadata": {},
   "source": [
    "Lets get statistical summary for the categorical or string variables:"
   ]
  },
  {
   "cell_type": "code",
   "execution_count": 20,
   "metadata": {},
   "outputs": [
    {
     "data": {
      "text/html": [
       "<div>\n",
       "<style scoped>\n",
       "    .dataframe tbody tr th:only-of-type {\n",
       "        vertical-align: middle;\n",
       "    }\n",
       "\n",
       "    .dataframe tbody tr th {\n",
       "        vertical-align: top;\n",
       "    }\n",
       "\n",
       "    .dataframe thead th {\n",
       "        text-align: right;\n",
       "    }\n",
       "</style>\n",
       "<table border=\"1\" class=\"dataframe\">\n",
       "  <thead>\n",
       "    <tr style=\"text-align: right;\">\n",
       "      <th></th>\n",
       "      <th>Categorical Feature</th>\n",
       "      <th>count</th>\n",
       "      <th>unique</th>\n",
       "      <th>top</th>\n",
       "      <th>freq</th>\n",
       "    </tr>\n",
       "  </thead>\n",
       "  <tbody>\n",
       "    <tr>\n",
       "      <th>0</th>\n",
       "      <td>transactiondate</td>\n",
       "      <td>90275</td>\n",
       "      <td>352</td>\n",
       "      <td>2016-07-29</td>\n",
       "      <td>910</td>\n",
       "    </tr>\n",
       "    <tr>\n",
       "      <th>1</th>\n",
       "      <td>hashottuborspa</td>\n",
       "      <td>90275</td>\n",
       "      <td>2</td>\n",
       "      <td>None</td>\n",
       "      <td>87910</td>\n",
       "    </tr>\n",
       "    <tr>\n",
       "      <th>2</th>\n",
       "      <td>propertycountylandusecode</td>\n",
       "      <td>90274</td>\n",
       "      <td>77</td>\n",
       "      <td>0100</td>\n",
       "      <td>30846</td>\n",
       "    </tr>\n",
       "    <tr>\n",
       "      <th>3</th>\n",
       "      <td>propertyzoningdesc</td>\n",
       "      <td>58313</td>\n",
       "      <td>1996</td>\n",
       "      <td>LAR1</td>\n",
       "      <td>7678</td>\n",
       "    </tr>\n",
       "    <tr>\n",
       "      <th>4</th>\n",
       "      <td>fireplaceflag</td>\n",
       "      <td>222</td>\n",
       "      <td>1</td>\n",
       "      <td>True</td>\n",
       "      <td>222</td>\n",
       "    </tr>\n",
       "    <tr>\n",
       "      <th>5</th>\n",
       "      <td>taxdelinquencyflag</td>\n",
       "      <td>1783</td>\n",
       "      <td>1</td>\n",
       "      <td>Y</td>\n",
       "      <td>1783</td>\n",
       "    </tr>\n",
       "  </tbody>\n",
       "</table>\n",
       "</div>"
      ],
      "text/plain": [
       "         Categorical Feature  count unique         top   freq\n",
       "0            transactiondate  90275    352  2016-07-29    910\n",
       "1             hashottuborspa  90275      2        None  87910\n",
       "2  propertycountylandusecode  90274     77        0100  30846\n",
       "3         propertyzoningdesc  58313   1996        LAR1   7678\n",
       "4              fireplaceflag    222      1        True    222\n",
       "5         taxdelinquencyflag   1783      1           Y   1783"
      ]
     },
     "execution_count": 20,
     "metadata": {},
     "output_type": "execute_result"
    }
   ],
   "source": [
    "describe = train_merge.describe(include=['O']).transpose().reset_index()\n",
    "describe.columns = ['Categorical Feature','count', 'unique', 'top', 'freq']\n",
    "describe"
   ]
  },
  {
   "cell_type": "code",
   "execution_count": null,
   "metadata": {},
   "outputs": [],
   "source": []
  },
  {
   "cell_type": "markdown",
   "metadata": {},
   "source": [
    "The correlation of the target variable with the given set of variables are low overall.\n",
    "\n",
    "There are few variables at the top of this graph without any correlation values. I guess they have only one unique value and hence no correlation value. Let us confirm the same."
   ]
  },
  {
   "cell_type": "code",
   "execution_count": 21,
   "metadata": {},
   "outputs": [
    {
     "name": "stdout",
     "output_type": "stream",
     "text": [
      "We exclude: ['buildingclasstypeid', 'decktypeid', 'pooltypeid10', 'storytypeid', 'fireplaceflag', 'assessmentyear', 'taxdelinquencyflag']\n",
      "7\n"
     ]
    }
   ],
   "source": [
    "# exclude where we only have one unique value \n",
    "exclude_unique = []\n",
    "for c in train_merge.columns:\n",
    "    num_uniques = len(train_merge[c].unique())\n",
    "    if train_merge[c].isnull().sum() != 0:\n",
    "        num_uniques -= 1\n",
    "    if num_uniques == 1:\n",
    "        exclude_unique.append(c)\n",
    "print(\"We exclude: %s\" % exclude_unique)\n",
    "print(len(exclude_unique))"
   ]
  },
  {
   "cell_type": "markdown",
   "metadata": {},
   "source": [
    "### Define training features"
   ]
  },
  {
   "cell_type": "code",
   "execution_count": 22,
   "metadata": {},
   "outputs": [
    {
     "name": "stdout",
     "output_type": "stream",
     "text": [
      "We use these for training: ['airconditioningtypeid', 'bathroomcnt', 'bedroomcnt', 'buildingqualitytypeid', 'calculatedbathnbr', 'finishedfloor1squarefeet', 'calculatedfinishedsquarefeet', 'finishedsquarefeet12', 'finishedsquarefeet15', 'finishedsquarefeet50', 'fips', 'fireplacecnt', 'fullbathcnt', 'garagecarcnt', 'garagetotalsqft', 'heatingorsystemtypeid', 'latitude', 'longitude', 'lotsizesquarefeet', 'poolcnt', 'poolsizesum', 'pooltypeid2', 'pooltypeid7', 'propertylandusetypeid', 'rawcensustractandblock', 'regionidcity', 'regionidcounty', 'regionidneighborhood', 'regionidzip', 'roomcnt', 'threequarterbathnbr', 'unitcnt', 'yardbuildingsqft17', 'yearbuilt', 'numberofstories', 'structuretaxvaluedollarcnt', 'taxvaluedollarcnt', 'landtaxvaluedollarcnt', 'taxamount', 'taxdelinquencyyear', 'censustractandblock']\n",
      "41\n"
     ]
    }
   ],
   "source": [
    "exclude_other = ['parcelid', 'logerror','transaction_month'] \n",
    "exclude_other.append('propertyzoningdesc')\n",
    "#exclude_other.append('propertyzoningdesc')\n",
    "train_features = []\n",
    "for c in train_merge.columns:\n",
    "    if c not in exclude_missing \\\n",
    "       and c not in exclude_other \\\n",
    "        and c not in exclude_unique and train_merge[c].dtype != 'object':\n",
    "        train_features.append(c)\n",
    "print(\"We use these for training: %s\" % train_features)\n",
    "print(len(train_features))"
   ]
  },
  {
   "cell_type": "markdown",
   "metadata": {},
   "source": [
    "### Define training features which are categorical"
   ]
  },
  {
   "cell_type": "code",
   "execution_count": 23,
   "metadata": {
    "scrolled": true
   },
   "outputs": [
    {
     "name": "stdout",
     "output_type": "stream",
     "text": [
      "Cat features are: []\n"
     ]
    }
   ],
   "source": [
    "cat_feature_inds = []\n",
    "cat_unique_thresh = 1000\n",
    "for i, c in enumerate(train_features):\n",
    "     if train_merge[c].dtype=='object':\n",
    "        cat_feature_inds.append(i)       \n",
    "print(\"Cat features are: %s\" % [train_features[ind] for ind in cat_feature_inds])"
   ]
  },
  {
   "cell_type": "markdown",
   "metadata": {},
   "source": [
    "lets analyze features with moderate correlation."
   ]
  },
  {
   "cell_type": "code",
   "execution_count": 24,
   "metadata": {},
   "outputs": [
    {
     "name": "stderr",
     "output_type": "stream",
     "text": [
      "C:\\Users\\Lenovo\\Anaconda3\\lib\\site-packages\\numpy\\lib\\function_base.py:3183: RuntimeWarning: invalid value encountered in true_divide\n",
      "  c /= stddev[:, None]\n",
      "C:\\Users\\Lenovo\\Anaconda3\\lib\\site-packages\\numpy\\lib\\function_base.py:3184: RuntimeWarning: invalid value encountered in true_divide\n",
      "  c /= stddev[None, :]\n"
     ]
    },
    {
     "data": {
      "image/png": "[encoded data removed]",
      "text/plain": [
       "<matplotlib.figure.Figure at 0x13dbf6b8048>"
      ]
     },
     "metadata": {},
     "output_type": "display_data"
    }
   ],
   "source": [
    "# Let us just impute the missing values with mean values to compute correlation coefficients #\n",
    "mean_values = train_merge.mean(axis=0)\n",
    "train_merge_new=train_merge.fillna(mean_values, inplace=True)\n",
    "\n",
    "x_cols = [col for col in train_merge.columns if col not in ['logerror'] if train_merge[col].dtype=='float32']\n",
    "\n",
    "labels = []\n",
    "values = []\n",
    "for col in x_cols:\n",
    "    labels.append(col)\n",
    "    values.append(np.corrcoef(train_merge[col].values, train_merge.logerror.values)[0,1])\n",
    "corr_df = pd.DataFrame({'col_labels':labels, 'corr_values':values})\n",
    "corr_df = corr_df.sort_values(by='corr_values')\n",
    "    \n",
    "ind = np.arange(len(labels))\n",
    "width = 0.9\n",
    "fig, ax = plt.subplots(figsize=(12,40))\n",
    "rects = ax.barh(ind, np.array(corr_df.corr_values.values), color='y')\n",
    "ax.set_yticks(ind)\n",
    "ax.set_yticklabels(corr_df.col_labels.values, rotation='horizontal')\n",
    "ax.set_xlabel(\"Correlation coefficient\")\n",
    "ax.set_title(\"Correlation coefficient of the variables\")\n",
    "#autolabel(rects)\n",
    "plt.show()"
   ]
  },
  {
   "cell_type": "code",
   "execution_count": 25,
   "metadata": {},
   "outputs": [
    {
     "name": "stderr",
     "output_type": "stream",
     "text": [
      "C:\\Users\\Lenovo\\Anaconda3\\lib\\site-packages\\ipykernel_launcher.py:1: DeprecationWarning: \n",
      ".ix is deprecated. Please use\n",
      ".loc for label based indexing or\n",
      ".iloc for positional indexing\n",
      "\n",
      "See the documentation here:\n",
      "http://pandas.pydata.org/pandas-docs/stable/indexing.html#ix-indexer-is-deprecated\n",
      "  \"\"\"Entry point for launching an IPython kernel.\n"
     ]
    },
    {
     "data": {
      "text/html": [
       "<div>\n",
       "<style scoped>\n",
       "    .dataframe tbody tr th:only-of-type {\n",
       "        vertical-align: middle;\n",
       "    }\n",
       "\n",
       "    .dataframe tbody tr th {\n",
       "        vertical-align: top;\n",
       "    }\n",
       "\n",
       "    .dataframe thead th {\n",
       "        text-align: right;\n",
       "    }\n",
       "</style>\n",
       "<table border=\"1\" class=\"dataframe\">\n",
       "  <thead>\n",
       "    <tr style=\"text-align: right;\">\n",
       "      <th></th>\n",
       "      <th>col_labels</th>\n",
       "      <th>corr_values</th>\n",
       "    </tr>\n",
       "  </thead>\n",
       "  <tbody>\n",
       "    <tr>\n",
       "      <th>21</th>\n",
       "      <td>heatingorsystemtypeid</td>\n",
       "      <td>-0.019648</td>\n",
       "    </tr>\n",
       "    <tr>\n",
       "      <th>45</th>\n",
       "      <td>structuretaxvaluedollarcnt</td>\n",
       "      <td>0.021935</td>\n",
       "    </tr>\n",
       "    <tr>\n",
       "      <th>4</th>\n",
       "      <td>bedroomcnt</td>\n",
       "      <td>0.025467</td>\n",
       "    </tr>\n",
       "    <tr>\n",
       "      <th>3</th>\n",
       "      <td>bathroomcnt</td>\n",
       "      <td>0.027889</td>\n",
       "    </tr>\n",
       "    <tr>\n",
       "      <th>18</th>\n",
       "      <td>fullbathcnt</td>\n",
       "      <td>0.028169</td>\n",
       "    </tr>\n",
       "    <tr>\n",
       "      <th>7</th>\n",
       "      <td>calculatedbathnbr</td>\n",
       "      <td>0.028758</td>\n",
       "    </tr>\n",
       "    <tr>\n",
       "      <th>10</th>\n",
       "      <td>calculatedfinishedsquarefeet</td>\n",
       "      <td>0.038341</td>\n",
       "    </tr>\n",
       "    <tr>\n",
       "      <th>11</th>\n",
       "      <td>finishedsquarefeet12</td>\n",
       "      <td>0.039248</td>\n",
       "    </tr>\n",
       "  </tbody>\n",
       "</table>\n",
       "</div>"
      ],
      "text/plain": [
       "                      col_labels  corr_values\n",
       "21         heatingorsystemtypeid    -0.019648\n",
       "45    structuretaxvaluedollarcnt     0.021935\n",
       "4                     bedroomcnt     0.025467\n",
       "3                    bathroomcnt     0.027889\n",
       "18                   fullbathcnt     0.028169\n",
       "7              calculatedbathnbr     0.028758\n",
       "10  calculatedfinishedsquarefeet     0.038341\n",
       "11          finishedsquarefeet12     0.039248"
      ]
     },
     "execution_count": 25,
     "metadata": {},
     "output_type": "execute_result"
    }
   ],
   "source": [
    "imp_features=corr_df.ix[(corr_df['corr_values']>0.02) | (corr_df['corr_values'] < -0.01)]\n",
    "imp_features"
   ]
  },
  {
   "cell_type": "code",
   "execution_count": 26,
   "metadata": {},
   "outputs": [
    {
     "data": {
      "text/html": [
       "<div>\n",
       "<style scoped>\n",
       "    .dataframe tbody tr th:only-of-type {\n",
       "        vertical-align: middle;\n",
       "    }\n",
       "\n",
       "    .dataframe tbody tr th {\n",
       "        vertical-align: top;\n",
       "    }\n",
       "\n",
       "    .dataframe thead th {\n",
       "        text-align: right;\n",
       "    }\n",
       "</style>\n",
       "<table border=\"1\" class=\"dataframe\">\n",
       "  <thead>\n",
       "    <tr style=\"text-align: right;\">\n",
       "      <th></th>\n",
       "      <th>heatingorsystemtypeid</th>\n",
       "      <th>structuretaxvaluedollarcnt</th>\n",
       "      <th>bedroomcnt</th>\n",
       "      <th>bathroomcnt</th>\n",
       "      <th>fullbathcnt</th>\n",
       "      <th>calculatedbathnbr</th>\n",
       "      <th>calculatedfinishedsquarefeet</th>\n",
       "      <th>finishedsquarefeet12</th>\n",
       "    </tr>\n",
       "  </thead>\n",
       "  <tbody>\n",
       "    <tr>\n",
       "      <th>heatingorsystemtypeid</th>\n",
       "      <td>1.000000</td>\n",
       "      <td>-0.157632</td>\n",
       "      <td>-0.129769</td>\n",
       "      <td>-0.249349</td>\n",
       "      <td>-0.273912</td>\n",
       "      <td>-0.257890</td>\n",
       "      <td>-0.189426</td>\n",
       "      <td>-0.197961</td>\n",
       "    </tr>\n",
       "    <tr>\n",
       "      <th>structuretaxvaluedollarcnt</th>\n",
       "      <td>-0.157632</td>\n",
       "      <td>1.000000</td>\n",
       "      <td>0.301623</td>\n",
       "      <td>0.581032</td>\n",
       "      <td>0.585495</td>\n",
       "      <td>0.604527</td>\n",
       "      <td>0.709404</td>\n",
       "      <td>0.727240</td>\n",
       "    </tr>\n",
       "    <tr>\n",
       "      <th>bedroomcnt</th>\n",
       "      <td>-0.129769</td>\n",
       "      <td>0.301623</td>\n",
       "      <td>1.000000</td>\n",
       "      <td>0.646120</td>\n",
       "      <td>0.585935</td>\n",
       "      <td>0.590046</td>\n",
       "      <td>0.615998</td>\n",
       "      <td>0.560120</td>\n",
       "    </tr>\n",
       "    <tr>\n",
       "      <th>bathroomcnt</th>\n",
       "      <td>-0.249349</td>\n",
       "      <td>0.581032</td>\n",
       "      <td>0.646120</td>\n",
       "      <td>1.000000</td>\n",
       "      <td>0.950312</td>\n",
       "      <td>0.965636</td>\n",
       "      <td>0.757887</td>\n",
       "      <td>0.731641</td>\n",
       "    </tr>\n",
       "    <tr>\n",
       "      <th>fullbathcnt</th>\n",
       "      <td>-0.273912</td>\n",
       "      <td>0.585495</td>\n",
       "      <td>0.585935</td>\n",
       "      <td>0.950312</td>\n",
       "      <td>1.000000</td>\n",
       "      <td>0.984130</td>\n",
       "      <td>0.774520</td>\n",
       "      <td>0.734254</td>\n",
       "    </tr>\n",
       "    <tr>\n",
       "      <th>calculatedbathnbr</th>\n",
       "      <td>-0.257890</td>\n",
       "      <td>0.604527</td>\n",
       "      <td>0.590046</td>\n",
       "      <td>0.965636</td>\n",
       "      <td>0.984130</td>\n",
       "      <td>1.000000</td>\n",
       "      <td>0.795247</td>\n",
       "      <td>0.758692</td>\n",
       "    </tr>\n",
       "    <tr>\n",
       "      <th>calculatedfinishedsquarefeet</th>\n",
       "      <td>-0.189426</td>\n",
       "      <td>0.709404</td>\n",
       "      <td>0.615998</td>\n",
       "      <td>0.757887</td>\n",
       "      <td>0.774520</td>\n",
       "      <td>0.795247</td>\n",
       "      <td>1.000000</td>\n",
       "      <td>0.958138</td>\n",
       "    </tr>\n",
       "    <tr>\n",
       "      <th>finishedsquarefeet12</th>\n",
       "      <td>-0.197961</td>\n",
       "      <td>0.727240</td>\n",
       "      <td>0.560120</td>\n",
       "      <td>0.731641</td>\n",
       "      <td>0.734254</td>\n",
       "      <td>0.758692</td>\n",
       "      <td>0.958138</td>\n",
       "      <td>1.000000</td>\n",
       "    </tr>\n",
       "  </tbody>\n",
       "</table>\n",
       "</div>"
      ],
      "text/plain": [
       "                              heatingorsystemtypeid  \\\n",
       "heatingorsystemtypeid                      1.000000   \n",
       "structuretaxvaluedollarcnt                -0.157632   \n",
       "bedroomcnt                                -0.129769   \n",
       "bathroomcnt                               -0.249349   \n",
       "fullbathcnt                               -0.273912   \n",
       "calculatedbathnbr                         -0.257890   \n",
       "calculatedfinishedsquarefeet              -0.189426   \n",
       "finishedsquarefeet12                      -0.197961   \n",
       "\n",
       "                              structuretaxvaluedollarcnt  bedroomcnt  \\\n",
       "heatingorsystemtypeid                          -0.157632   -0.129769   \n",
       "structuretaxvaluedollarcnt                      1.000000    0.301623   \n",
       "bedroomcnt                                      0.301623    1.000000   \n",
       "bathroomcnt                                     0.581032    0.646120   \n",
       "fullbathcnt                                     0.585495    0.585935   \n",
       "calculatedbathnbr                               0.604527    0.590046   \n",
       "calculatedfinishedsquarefeet                    0.709404    0.615998   \n",
       "finishedsquarefeet12                            0.727240    0.560120   \n",
       "\n",
       "                              bathroomcnt  fullbathcnt  calculatedbathnbr  \\\n",
       "heatingorsystemtypeid           -0.249349    -0.273912          -0.257890   \n",
       "structuretaxvaluedollarcnt       0.581032     0.585495           0.604527   \n",
       "bedroomcnt                       0.646120     0.585935           0.590046   \n",
       "bathroomcnt                      1.000000     0.950312           0.965636   \n",
       "fullbathcnt                      0.950312     1.000000           0.984130   \n",
       "calculatedbathnbr                0.965636     0.984130           1.000000   \n",
       "calculatedfinishedsquarefeet     0.757887     0.774520           0.795247   \n",
       "finishedsquarefeet12             0.731641     0.734254           0.758692   \n",
       "\n",
       "                              calculatedfinishedsquarefeet  \\\n",
       "heatingorsystemtypeid                            -0.189426   \n",
       "structuretaxvaluedollarcnt                        0.709404   \n",
       "bedroomcnt                                        0.615998   \n",
       "bathroomcnt                                       0.757887   \n",
       "fullbathcnt                                       0.774520   \n",
       "calculatedbathnbr                                 0.795247   \n",
       "calculatedfinishedsquarefeet                      1.000000   \n",
       "finishedsquarefeet12                              0.958138   \n",
       "\n",
       "                              finishedsquarefeet12  \n",
       "heatingorsystemtypeid                    -0.197961  \n",
       "structuretaxvaluedollarcnt                0.727240  \n",
       "bedroomcnt                                0.560120  \n",
       "bathroomcnt                               0.731641  \n",
       "fullbathcnt                               0.734254  \n",
       "calculatedbathnbr                         0.758692  \n",
       "calculatedfinishedsquarefeet              0.958138  \n",
       "finishedsquarefeet12                      1.000000  "
      ]
     },
     "execution_count": 26,
     "metadata": {},
     "output_type": "execute_result"
    },
    {
     "data": {
      "image/png": "[encoded data removed]",
      "text/plain": [
       "<matplotlib.figure.Figure at 0x13dbf677c50>"
      ]
     },
     "metadata": {},
     "output_type": "display_data"
    }
   ],
   "source": [
    "imp_columns = imp_features.col_labels.tolist()\n",
    "corr_df=train_merge[imp_columns]\n",
    "\n",
    "corr=corr_df.corr()\n",
    "corr = (corr)\n",
    "sns.heatmap(corr, xticklabels=corr.columns.values,\n",
    "            yticklabels=corr.columns.values)\n",
    "plt.title('Heatmap of Correlation Matrix')\n",
    "corr"
   ]
  },
  {
   "cell_type": "markdown",
   "metadata": {},
   "source": [
    "Important variables are highly correlated."
   ]
  },
  {
   "cell_type": "markdown",
   "metadata": {},
   "source": [
    "'logerror' is the target variable for our prediction. So lets analyze this."
   ]
  },
  {
   "cell_type": "code",
   "execution_count": 27,
   "metadata": {},
   "outputs": [
    {
     "data": {
      "image/png": "[encoded data removed]",
      "text/plain": [
       "<matplotlib.figure.Figure at 0x13dbf67fe48>"
      ]
     },
     "metadata": {},
     "output_type": "display_data"
    }
   ],
   "source": [
    "plt.figure(figsize=(8,6))\n",
    "plt.scatter(range(train_merge.shape[0]), np.sort(train_merge.logerror.values))\n",
    "plt.xlabel('index', fontsize=12)\n",
    "plt.ylabel('logerror', fontsize=12)\n",
    "plt.show()"
   ]
  },
  {
   "cell_type": "markdown",
   "metadata": {},
   "source": [
    "Scatter plot for the dependent variable shows there are outliers in the data. Lets plot the histogram to visualize the distribution."
   ]
  },
  {
   "cell_type": "code",
   "execution_count": 28,
   "metadata": {},
   "outputs": [
    {
     "data": {
      "image/png": "[encoded data removed]",
      "text/plain": [
       "<matplotlib.figure.Figure at 0x13dbf629940>"
      ]
     },
     "metadata": {},
     "output_type": "display_data"
    }
   ],
   "source": [
    "\n",
    "plt.figure(figsize=(12,8))\n",
    "sns.distplot(train_merge.logerror.values, bins=75, kde=False)\n",
    "plt.xlabel('logerror', fontsize=12)\n",
    "plt.show()"
   ]
  },
  {
   "cell_type": "markdown",
   "metadata": {},
   "source": [
    "'logerror' is normally distributed."
   ]
  },
  {
   "cell_type": "markdown",
   "metadata": {},
   "source": [
    "#### Analyzing transactiondate"
   ]
  },
  {
   "cell_type": "code",
   "execution_count": 29,
   "metadata": {},
   "outputs": [
    {
     "data": {
      "image/png": "[encoded data removed]",
      "text/plain": [
       "<matplotlib.figure.Figure at 0x13d955664a8>"
      ]
     },
     "metadata": {},
     "output_type": "display_data"
    }
   ],
   "source": [
    "month_order = ['Jan', 'Feb', 'Mar', 'Apr', 'May', 'Jun', 'Jul', 'Aug', 'Sep', 'Oct', 'Nov', 'Dec']  # for ordering in graph , order=month_order\n",
    "train_month=pd.DataFrame(pd.to_datetime(train_merge['transactiondate']))\n",
    "train_month['transaction_month'] = train_month[\"transactiondate\"].dt.month\n",
    "month_df = pd.DataFrame(train_month['transaction_month'].value_counts()).reset_index()\n",
    "month_df.columns = ['transaction_month', 'count']\n",
    "plt.figure(figsize=(12,6))\n",
    "sns.barplot(x='transaction_month', y='count', data=month_df,alpha=0.8)\n",
    "plt.xticks(rotation='vertical')\n",
    "plt.xlabel('Month of transaction', fontsize=12)\n",
    "plt.ylabel('Number of transactions', fontsize=12)\n",
    "plt.show()\n",
    "\n"
   ]
  },
  {
   "cell_type": "markdown",
   "metadata": {},
   "source": [
    "Most of the data in the train set is before October 15, 2016, which can be seen in the graph as well."
   ]
  },
  {
   "cell_type": "markdown",
   "metadata": {},
   "source": [
    "#### Finished SquareFeet 12:"
   ]
  },
  {
   "cell_type": "markdown",
   "metadata": {},
   "source": [
    "Let us seee how the finished square feet 12 varies with the log error."
   ]
  },
  {
   "cell_type": "code",
   "execution_count": 30,
   "metadata": {},
   "outputs": [
    {
     "data": {
      "image/png": "[encoded data removed]",
      "text/plain": [
       "<matplotlib.figure.Figure at 0x13dbf6353c8>"
      ]
     },
     "metadata": {},
     "output_type": "display_data"
    }
   ],
   "source": [
    "plt.figure(figsize=(12,12))\n",
    "sns.regplot(x=\"finishedsquarefeet12\", y=\"logerror\", data=train_merge)\n",
    "plt.ylabel('Log Error', fontsize=12)\n",
    "plt.xlabel('Finished Square Feet 12', fontsize=12)\n",
    "plt.title(\"Finished square feet 12 Vs Log error\", fontsize=15)\n",
    "plt.show()"
   ]
  },
  {
   "cell_type": "markdown",
   "metadata": {},
   "source": [
    "Seems the range of logerror narrows down with increase in finished square feet 12 variable."
   ]
  },
  {
   "cell_type": "markdown",
   "metadata": {},
   "source": [
    "#### calculatedfinishedsquarefeet"
   ]
  },
  {
   "cell_type": "code",
   "execution_count": 31,
   "metadata": {},
   "outputs": [
    {
     "data": {
      "image/png": "[encoded data removed]",
      "text/plain": [
       "<matplotlib.figure.Figure at 0x13dbeffff98>"
      ]
     },
     "metadata": {},
     "output_type": "display_data"
    }
   ],
   "source": [
    "plt.figure(figsize=(12,12))\n",
    "sns.regplot(x=\"calculatedfinishedsquarefeet\", y=\"logerror\", data=train_merge)\n",
    "plt.ylabel('Log Error', fontsize=12)\n",
    "plt.xlabel('Finished Square Feet 12', fontsize=12)\n",
    "plt.title(\"Finished square feet 12 Vs Log error\", fontsize=15)\n",
    "plt.show()"
   ]
  },
  {
   "cell_type": "markdown",
   "metadata": {},
   "source": [
    "Above distribution is very similar to the previous one. "
   ]
  },
  {
   "cell_type": "markdown",
   "metadata": {},
   "source": [
    "#### calculatedbathnbr"
   ]
  },
  {
   "cell_type": "code",
   "execution_count": 32,
   "metadata": {},
   "outputs": [
    {
     "data": {
      "image/png": "[encoded data removed]",
      "text/plain": [
       "<matplotlib.figure.Figure at 0x13dbf441208>"
      ]
     },
     "metadata": {},
     "output_type": "display_data"
    }
   ],
   "source": [
    "plt.figure(figsize=(12,8))\n",
    "sns.countplot(x=\"bathroomcnt\", data=train_merge)\n",
    "plt.ylabel('Count', fontsize=12)\n",
    "plt.xlabel('Bathroom', fontsize=12)\n",
    "plt.xticks(rotation='vertical')\n",
    "plt.title(\"Frequency of Bathroom count\", fontsize=15)\n",
    "plt.show()"
   ]
  },
  {
   "cell_type": "markdown",
   "metadata": {},
   "source": [
    "#### log error changes Vs bathroom count"
   ]
  },
  {
   "cell_type": "code",
   "execution_count": 33,
   "metadata": {},
   "outputs": [
    {
     "data": {
      "image/png": "[encoded data removed]",
      "text/plain": [
       "<matplotlib.figure.Figure at 0x13dbf4823c8>"
      ]
     },
     "metadata": {},
     "output_type": "display_data"
    }
   ],
   "source": [
    "pivot_mean = train_merge.pivot_table(index='bathroomcnt', values='logerror', aggfunc='mean').reset_index()\n",
    "ax = pivot_mean.plot(x='bathroomcnt', y='logerror',kind='bar',colormap='Set2', title = 'logerror Vs bathnbr', legend=False)\n",
    "ax.set_xlabel('bath room cnt')\n",
    "ax.set_ylabel('log error ')\n",
    "plt.show()"
   ]
  },
  {
   "cell_type": "markdown",
   "metadata": {},
   "source": [
    "#### bedroomcnt"
   ]
  },
  {
   "cell_type": "code",
   "execution_count": 34,
   "metadata": {},
   "outputs": [
    {
     "data": {
      "image/png": "[encoded data removed]",
      "text/plain": [
       "<matplotlib.figure.Figure at 0x13dbf2710b8>"
      ]
     },
     "metadata": {},
     "output_type": "display_data"
    }
   ],
   "source": [
    "plt.figure(figsize=(12,8))\n",
    "sns.countplot(x=\"bedroomcnt\", data=train_merge)\n",
    "plt.ylabel('Frequency', fontsize=12)\n",
    "plt.xlabel('Bedroom Count', fontsize=12)\n",
    "plt.xticks(rotation='vertical')\n",
    "plt.title(\"Frequency of Bedroom count\", fontsize=15)\n",
    "plt.show()"
   ]
  },
  {
   "cell_type": "code",
   "execution_count": 35,
   "metadata": {},
   "outputs": [
    {
     "data": {
      "image/png": "[encoded data removed]",
      "text/plain": [
       "<matplotlib.figure.Figure at 0x13dbf271c88>"
      ]
     },
     "metadata": {},
     "output_type": "display_data"
    }
   ],
   "source": [
    "\n",
    "plt.figure(figsize=(12,8))\n",
    "sns.violinplot(x='bedroomcnt', y='logerror', data=train_merge)\n",
    "plt.xlabel('Bedroom count', fontsize=12)\n",
    "plt.ylabel('Log Error', fontsize=12)\n",
    "plt.show()"
   ]
  },
  {
   "cell_type": "markdown",
   "metadata": {},
   "source": [
    "#### YearBuilt:"
   ]
  },
  {
   "cell_type": "code",
   "execution_count": 36,
   "metadata": {},
   "outputs": [
    {
     "data": {
      "image/png": "[encoded data removed]",
      "text/plain": [
       "<matplotlib.figure.Figure at 0x13dbef01fd0>"
      ]
     },
     "metadata": {},
     "output_type": "display_data"
    }
   ],
   "source": [
    "plt.figure(figsize=(25,15))\n",
    "sns.countplot(x=\"yearbuilt\", data=train_merge)\n",
    "plt.ylabel('Frequency', fontsize=12)\n",
    "plt.xlabel('Year built', fontsize=12)\n",
    "plt.xticks(rotation='vertical')\n",
    "plt.title(\"Frequency of built year\", fontsize=15)\n",
    "plt.show()\n"
   ]
  },
  {
   "cell_type": "markdown",
   "metadata": {},
   "source": [
    "Now lets build a simple linear Regression model to start with."
   ]
  },
  {
   "cell_type": "code",
   "execution_count": 46,
   "metadata": {},
   "outputs": [
    {
     "name": "stdout",
     "output_type": "stream",
     "text": [
      "(90275, 41) (90275,)\n"
     ]
    }
   ],
   "source": [
    "X_train = train_merge[train_features]\n",
    "y_train = train_merge.logerror\n",
    "print(X_train.shape, y_train.shape)"
   ]
  },
  {
   "cell_type": "code",
   "execution_count": 47,
   "metadata": {},
   "outputs": [],
   "source": [
    "lm = linear_model.LinearRegression()\n",
    "model = lm.fit(X_train,y_train)"
   ]
  },
  {
   "cell_type": "code",
   "execution_count": 48,
   "metadata": {},
   "outputs": [],
   "source": [
    "#train_columns=train_X.columns\n",
    "sample['parcelid'] = sample['ParcelId']\n",
    "df_test = sample.merge(properties, on='parcelid', how='left')\n",
    "x_test = df_test[train_features]\n"
   ]
  },
  {
   "cell_type": "code",
   "execution_count": 49,
   "metadata": {},
   "outputs": [
    {
     "name": "stdout",
     "output_type": "stream",
     "text": [
      "Prediction_parcelid20180802194203201256.csv\n"
     ]
    }
   ],
   "source": [
    "y_test=lm.predict(x_test.fillna(x_test.mean()))\n",
    "y_test = pd.DataFrame(y_test)\n",
    "y_test[1] = y_test[0]\n",
    "y_test[2] = y_test[0]\n",
    "y_test[3] = y_test[0]\n",
    "y_test[4] = y_test[0]\n",
    "y_test[5] = y_test[0] \n",
    "y_test.columns = [\"201610\",\"201611\",\"201612\",\"201710\",\"201711\",\"201712\"]\n",
    "submission = y_test.copy()\n",
    "submission[\"parcelid\"] = sample[\"ParcelId\"].copy()\n",
    "cols = [\"parcelid\",\"201610\",\"201611\",\"201612\",\"201710\",\"201711\",\"201712\"]\n",
    "201610, 201611, 201612, 201701, 201702, 201703\n",
    "submission = submission[cols]\n",
    "filename = \"Prediction_\" + str(submission.columns[0]) + re.sub(\"[^0-9]\", \"\",str(datetime.datetime.now())) + '.csv'\n",
    "print(filename)\n",
    "submission.to_csv(filename,index=False)"
   ]
  },
  {
   "cell_type": "markdown",
   "metadata": {},
   "source": [
    "### CatBoost"
   ]
  },
  {
   "cell_type": "code",
   "execution_count": 44,
   "metadata": {},
   "outputs": [
    {
     "name": "stdout",
     "output_type": "stream",
     "text": [
      "0:\tlearn: 0.0681076\ttotal: 101ms\tremaining: 20.2s\n",
      "1:\tlearn: 0.0679081\ttotal: 202ms\tremaining: 20s\n",
      "2:\tlearn: 0.0677807\ttotal: 303ms\tremaining: 19.9s\n",
      "3:\tlearn: 0.0676982\ttotal: 420ms\tremaining: 20.6s\n",
      "4:\tlearn: 0.0676399\ttotal: 521ms\tremaining: 20.3s\n",
      "5:\tlearn: 0.0676043\ttotal: 629ms\tremaining: 20.3s\n",
      "6:\tlearn: 0.0675541\ttotal: 736ms\tremaining: 20.3s\n",
      "7:\tlearn: 0.0675173\ttotal: 844ms\tremaining: 20.3s\n",
      "8:\tlearn: 0.0674879\ttotal: 950ms\tremaining: 20.2s\n",
      "9:\tlearn: 0.0674588\ttotal: 1.05s\tremaining: 20s\n",
      "10:\tlearn: 0.0674341\ttotal: 1.16s\tremaining: 20s\n",
      "11:\tlearn: 0.0674132\ttotal: 1.27s\tremaining: 19.8s\n",
      "12:\tlearn: 0.0673776\ttotal: 1.37s\tremaining: 19.8s\n",
      "13:\tlearn: 0.0673571\ttotal: 1.48s\tremaining: 19.7s\n",
      "14:\tlearn: 0.0673378\ttotal: 1.59s\tremaining: 19.6s\n",
      "15:\tlearn: 0.0673217\ttotal: 1.7s\tremaining: 19.5s\n",
      "16:\tlearn: 0.0673075\ttotal: 1.82s\tremaining: 19.6s\n",
      "17:\tlearn: 0.0672936\ttotal: 1.94s\tremaining: 19.6s\n",
      "18:\tlearn: 0.0672691\ttotal: 2.05s\tremaining: 19.5s\n",
      "19:\tlearn: 0.0672557\ttotal: 2.16s\tremaining: 19.4s\n",
      "20:\tlearn: 0.0672393\ttotal: 2.27s\tremaining: 19.3s\n",
      "21:\tlearn: 0.0672227\ttotal: 2.39s\tremaining: 19.4s\n",
      "22:\tlearn: 0.0672017\ttotal: 2.53s\tremaining: 19.4s\n",
      "23:\tlearn: 0.0671885\ttotal: 2.65s\tremaining: 19.4s\n",
      "24:\tlearn: 0.0671682\ttotal: 2.77s\tremaining: 19.4s\n",
      "25:\tlearn: 0.0671508\ttotal: 2.88s\tremaining: 19.3s\n",
      "26:\tlearn: 0.0671334\ttotal: 2.99s\tremaining: 19.2s\n",
      "27:\tlearn: 0.0671194\ttotal: 3.11s\tremaining: 19.1s\n",
      "28:\tlearn: 0.0671034\ttotal: 3.22s\tremaining: 19s\n",
      "29:\tlearn: 0.0670917\ttotal: 3.33s\tremaining: 18.9s\n",
      "30:\tlearn: 0.0670802\ttotal: 3.44s\tremaining: 18.8s\n",
      "31:\tlearn: 0.0670709\ttotal: 3.55s\tremaining: 18.7s\n",
      "32:\tlearn: 0.0670558\ttotal: 3.67s\tremaining: 18.6s\n",
      "33:\tlearn: 0.0670314\ttotal: 3.78s\tremaining: 18.4s\n",
      "34:\tlearn: 0.0670125\ttotal: 3.89s\tremaining: 18.3s\n",
      "35:\tlearn: 0.0669925\ttotal: 4.01s\tremaining: 18.3s\n",
      "36:\tlearn: 0.0669777\ttotal: 4.12s\tremaining: 18.2s\n",
      "37:\tlearn: 0.0669652\ttotal: 4.23s\tremaining: 18.1s\n",
      "38:\tlearn: 0.0669512\ttotal: 4.35s\tremaining: 17.9s\n",
      "39:\tlearn: 0.0669328\ttotal: 4.45s\tremaining: 17.8s\n",
      "40:\tlearn: 0.0669178\ttotal: 4.57s\tremaining: 17.7s\n",
      "41:\tlearn: 0.0669075\ttotal: 4.7s\tremaining: 17.7s\n",
      "42:\tlearn: 0.0668941\ttotal: 4.82s\tremaining: 17.6s\n",
      "43:\tlearn: 0.0668813\ttotal: 4.93s\tremaining: 17.5s\n",
      "44:\tlearn: 0.0668708\ttotal: 5.04s\tremaining: 17.4s\n",
      "45:\tlearn: 0.0668581\ttotal: 5.15s\tremaining: 17.3s\n",
      "46:\tlearn: 0.0668483\ttotal: 5.33s\tremaining: 17.4s\n",
      "47:\tlearn: 0.0668345\ttotal: 5.49s\tremaining: 17.4s\n",
      "48:\tlearn: 0.0668242\ttotal: 5.62s\tremaining: 17.3s\n",
      "49:\tlearn: 0.0668153\ttotal: 5.73s\tremaining: 17.2s\n",
      "50:\tlearn: 0.0668016\ttotal: 5.87s\tremaining: 17.2s\n",
      "51:\tlearn: 0.0667903\ttotal: 6.01s\tremaining: 17.1s\n",
      "52:\tlearn: 0.0667810\ttotal: 6.14s\tremaining: 17s\n",
      "53:\tlearn: 0.0667712\ttotal: 6.3s\tremaining: 17s\n",
      "54:\tlearn: 0.0667632\ttotal: 6.44s\tremaining: 17s\n",
      "55:\tlearn: 0.0667516\ttotal: 6.55s\tremaining: 16.8s\n",
      "56:\tlearn: 0.0667465\ttotal: 6.66s\tremaining: 16.7s\n",
      "57:\tlearn: 0.0667369\ttotal: 6.77s\tremaining: 16.6s\n",
      "58:\tlearn: 0.0667250\ttotal: 6.88s\tremaining: 16.5s\n",
      "59:\tlearn: 0.0667076\ttotal: 6.99s\tremaining: 16.3s\n",
      "60:\tlearn: 0.0666986\ttotal: 7.1s\tremaining: 16.2s\n",
      "61:\tlearn: 0.0666875\ttotal: 7.2s\tremaining: 16s\n",
      "62:\tlearn: 0.0666782\ttotal: 7.3s\tremaining: 15.9s\n",
      "63:\tlearn: 0.0666720\ttotal: 7.4s\tremaining: 15.7s\n",
      "64:\tlearn: 0.0666625\ttotal: 7.5s\tremaining: 15.6s\n",
      "65:\tlearn: 0.0666542\ttotal: 7.61s\tremaining: 15.4s\n",
      "66:\tlearn: 0.0666417\ttotal: 7.71s\tremaining: 15.3s\n",
      "67:\tlearn: 0.0666339\ttotal: 7.81s\tremaining: 15.2s\n",
      "68:\tlearn: 0.0666258\ttotal: 7.92s\tremaining: 15s\n",
      "69:\tlearn: 0.0666165\ttotal: 8.02s\tremaining: 14.9s\n",
      "70:\tlearn: 0.0666040\ttotal: 8.13s\tremaining: 14.8s\n",
      "71:\tlearn: 0.0665894\ttotal: 8.23s\tremaining: 14.6s\n",
      "72:\tlearn: 0.0665764\ttotal: 8.33s\tremaining: 14.5s\n",
      "73:\tlearn: 0.0665658\ttotal: 8.44s\tremaining: 14.4s\n",
      "74:\tlearn: 0.0665609\ttotal: 8.54s\tremaining: 14.2s\n",
      "75:\tlearn: 0.0665535\ttotal: 8.64s\tremaining: 14.1s\n",
      "76:\tlearn: 0.0665482\ttotal: 8.77s\tremaining: 14s\n",
      "77:\tlearn: 0.0665397\ttotal: 8.9s\tremaining: 13.9s\n",
      "78:\tlearn: 0.0665272\ttotal: 9.02s\tremaining: 13.8s\n",
      "79:\tlearn: 0.0665140\ttotal: 9.12s\tremaining: 13.7s\n",
      "80:\tlearn: 0.0665027\ttotal: 9.24s\tremaining: 13.6s\n",
      "81:\tlearn: 0.0664969\ttotal: 9.36s\tremaining: 13.5s\n",
      "82:\tlearn: 0.0664855\ttotal: 9.47s\tremaining: 13.3s\n",
      "83:\tlearn: 0.0664793\ttotal: 9.57s\tremaining: 13.2s\n",
      "84:\tlearn: 0.0664724\ttotal: 9.68s\tremaining: 13.1s\n",
      "85:\tlearn: 0.0664653\ttotal: 9.78s\tremaining: 13s\n",
      "86:\tlearn: 0.0664614\ttotal: 9.92s\tremaining: 12.9s\n",
      "87:\tlearn: 0.0664459\ttotal: 10.1s\tremaining: 12.8s\n",
      "88:\tlearn: 0.0664379\ttotal: 10.2s\tremaining: 12.7s\n",
      "89:\tlearn: 0.0664304\ttotal: 10.3s\tremaining: 12.6s\n",
      "90:\tlearn: 0.0664198\ttotal: 10.4s\tremaining: 12.5s\n",
      "91:\tlearn: 0.0664077\ttotal: 10.5s\tremaining: 12.3s\n",
      "92:\tlearn: 0.0664007\ttotal: 10.7s\tremaining: 12.3s\n",
      "93:\tlearn: 0.0663962\ttotal: 10.8s\tremaining: 12.2s\n",
      "94:\tlearn: 0.0663875\ttotal: 10.9s\tremaining: 12s\n",
      "95:\tlearn: 0.0663787\ttotal: 11s\tremaining: 11.9s\n",
      "96:\tlearn: 0.0663736\ttotal: 11.1s\tremaining: 11.8s\n",
      "97:\tlearn: 0.0663648\ttotal: 11.2s\tremaining: 11.7s\n",
      "98:\tlearn: 0.0663570\ttotal: 11.3s\tremaining: 11.5s\n",
      "99:\tlearn: 0.0663474\ttotal: 11.4s\tremaining: 11.4s\n",
      "100:\tlearn: 0.0663347\ttotal: 11.5s\tremaining: 11.3s\n",
      "101:\tlearn: 0.0663279\ttotal: 11.6s\tremaining: 11.2s\n",
      "102:\tlearn: 0.0663172\ttotal: 11.8s\tremaining: 11.1s\n",
      "103:\tlearn: 0.0663073\ttotal: 11.9s\tremaining: 11s\n",
      "104:\tlearn: 0.0662975\ttotal: 12s\tremaining: 10.8s\n",
      "105:\tlearn: 0.0662882\ttotal: 12.1s\tremaining: 10.7s\n",
      "106:\tlearn: 0.0662852\ttotal: 12.2s\tremaining: 10.6s\n",
      "107:\tlearn: 0.0662767\ttotal: 12.3s\tremaining: 10.5s\n",
      "108:\tlearn: 0.0662690\ttotal: 12.4s\tremaining: 10.4s\n",
      "109:\tlearn: 0.0662625\ttotal: 12.5s\tremaining: 10.2s\n",
      "110:\tlearn: 0.0662546\ttotal: 12.6s\tremaining: 10.1s\n",
      "111:\tlearn: 0.0662474\ttotal: 12.7s\tremaining: 10s\n",
      "112:\tlearn: 0.0662404\ttotal: 12.8s\tremaining: 9.88s\n",
      "113:\tlearn: 0.0662320\ttotal: 12.9s\tremaining: 9.76s\n",
      "114:\tlearn: 0.0662249\ttotal: 13s\tremaining: 9.64s\n",
      "115:\tlearn: 0.0662192\ttotal: 13.2s\tremaining: 9.54s\n",
      "116:\tlearn: 0.0662101\ttotal: 13.3s\tremaining: 9.43s\n",
      "117:\tlearn: 0.0662027\ttotal: 13.4s\tremaining: 9.33s\n",
      "118:\tlearn: 0.0661965\ttotal: 13.6s\tremaining: 9.23s\n",
      "119:\tlearn: 0.0661887\ttotal: 13.7s\tremaining: 9.11s\n",
      "120:\tlearn: 0.0661823\ttotal: 13.8s\tremaining: 8.99s\n",
      "121:\tlearn: 0.0661782\ttotal: 13.9s\tremaining: 8.87s\n",
      "122:\tlearn: 0.0661690\ttotal: 14s\tremaining: 8.75s\n",
      "123:\tlearn: 0.0661578\ttotal: 14.1s\tremaining: 8.63s\n",
      "124:\tlearn: 0.0661507\ttotal: 14.2s\tremaining: 8.51s\n",
      "125:\tlearn: 0.0661405\ttotal: 14.3s\tremaining: 8.38s\n",
      "126:\tlearn: 0.0661327\ttotal: 14.4s\tremaining: 8.27s\n",
      "127:\tlearn: 0.0661285\ttotal: 14.5s\tremaining: 8.14s\n",
      "128:\tlearn: 0.0661212\ttotal: 14.6s\tremaining: 8.03s\n",
      "129:\tlearn: 0.0661139\ttotal: 14.7s\tremaining: 7.91s\n",
      "130:\tlearn: 0.0661083\ttotal: 14.8s\tremaining: 7.79s\n",
      "131:\tlearn: 0.0661017\ttotal: 14.9s\tremaining: 7.67s\n",
      "132:\tlearn: 0.0660961\ttotal: 15s\tremaining: 7.55s\n",
      "133:\tlearn: 0.0660918\ttotal: 15.1s\tremaining: 7.44s\n",
      "134:\tlearn: 0.0660836\ttotal: 15.2s\tremaining: 7.32s\n",
      "135:\tlearn: 0.0660749\ttotal: 15.3s\tremaining: 7.2s\n",
      "136:\tlearn: 0.0660694\ttotal: 15.4s\tremaining: 7.09s\n",
      "137:\tlearn: 0.0660624\ttotal: 15.5s\tremaining: 6.97s\n",
      "138:\tlearn: 0.0660534\ttotal: 15.6s\tremaining: 6.85s\n",
      "139:\tlearn: 0.0660419\ttotal: 15.7s\tremaining: 6.74s\n",
      "140:\tlearn: 0.0660344\ttotal: 15.8s\tremaining: 6.62s\n",
      "141:\tlearn: 0.0660227\ttotal: 15.9s\tremaining: 6.51s\n",
      "142:\tlearn: 0.0660136\ttotal: 16.1s\tremaining: 6.4s\n",
      "143:\tlearn: 0.0660048\ttotal: 16.2s\tremaining: 6.29s\n",
      "144:\tlearn: 0.0659939\ttotal: 16.3s\tremaining: 6.19s\n",
      "145:\tlearn: 0.0659857\ttotal: 16.5s\tremaining: 6.09s\n",
      "146:\tlearn: 0.0659763\ttotal: 16.6s\tremaining: 5.98s\n",
      "147:\tlearn: 0.0659672\ttotal: 16.7s\tremaining: 5.88s\n",
      "148:\tlearn: 0.0659604\ttotal: 16.9s\tremaining: 5.77s\n",
      "149:\tlearn: 0.0659540\ttotal: 17s\tremaining: 5.66s\n",
      "150:\tlearn: 0.0659443\ttotal: 17.1s\tremaining: 5.55s\n",
      "151:\tlearn: 0.0659376\ttotal: 17.3s\tremaining: 5.45s\n",
      "152:\tlearn: 0.0659298\ttotal: 17.4s\tremaining: 5.35s\n",
      "153:\tlearn: 0.0659182\ttotal: 17.5s\tremaining: 5.24s\n",
      "154:\tlearn: 0.0659110\ttotal: 17.7s\tremaining: 5.13s\n",
      "155:\tlearn: 0.0659045\ttotal: 17.8s\tremaining: 5.02s\n",
      "156:\tlearn: 0.0658951\ttotal: 17.9s\tremaining: 4.91s\n",
      "157:\tlearn: 0.0658896\ttotal: 18.1s\tremaining: 4.8s\n",
      "158:\tlearn: 0.0658765\ttotal: 18.2s\tremaining: 4.69s\n",
      "159:\tlearn: 0.0658728\ttotal: 18.3s\tremaining: 4.58s\n",
      "160:\tlearn: 0.0658629\ttotal: 18.5s\tremaining: 4.47s\n",
      "161:\tlearn: 0.0658583\ttotal: 18.6s\tremaining: 4.36s\n"
     ]
    },
    {
     "name": "stdout",
     "output_type": "stream",
     "text": [
      "162:\tlearn: 0.0658508\ttotal: 18.7s\tremaining: 4.25s\n",
      "163:\tlearn: 0.0658433\ttotal: 18.8s\tremaining: 4.14s\n",
      "164:\tlearn: 0.0658345\ttotal: 19s\tremaining: 4.03s\n",
      "165:\tlearn: 0.0658263\ttotal: 19.1s\tremaining: 3.91s\n",
      "166:\tlearn: 0.0658179\ttotal: 19.2s\tremaining: 3.8s\n",
      "167:\tlearn: 0.0658112\ttotal: 19.3s\tremaining: 3.68s\n",
      "168:\tlearn: 0.0658031\ttotal: 19.4s\tremaining: 3.56s\n",
      "169:\tlearn: 0.0657973\ttotal: 19.5s\tremaining: 3.44s\n",
      "170:\tlearn: 0.0657903\ttotal: 19.6s\tremaining: 3.33s\n",
      "171:\tlearn: 0.0657857\ttotal: 19.7s\tremaining: 3.21s\n",
      "172:\tlearn: 0.0657789\ttotal: 19.8s\tremaining: 3.09s\n",
      "173:\tlearn: 0.0657731\ttotal: 19.9s\tremaining: 2.98s\n",
      "174:\tlearn: 0.0657680\ttotal: 20s\tremaining: 2.86s\n",
      "175:\tlearn: 0.0657622\ttotal: 20.1s\tremaining: 2.75s\n",
      "176:\tlearn: 0.0657528\ttotal: 20.2s\tremaining: 2.63s\n",
      "177:\tlearn: 0.0657474\ttotal: 20.3s\tremaining: 2.52s\n",
      "178:\tlearn: 0.0657429\ttotal: 20.4s\tremaining: 2.4s\n",
      "179:\tlearn: 0.0657366\ttotal: 20.6s\tremaining: 2.28s\n",
      "180:\tlearn: 0.0657292\ttotal: 20.7s\tremaining: 2.17s\n",
      "181:\tlearn: 0.0657242\ttotal: 20.8s\tremaining: 2.05s\n",
      "182:\tlearn: 0.0657176\ttotal: 20.9s\tremaining: 1.94s\n",
      "183:\tlearn: 0.0657110\ttotal: 21s\tremaining: 1.82s\n",
      "184:\tlearn: 0.0657054\ttotal: 21.1s\tremaining: 1.71s\n",
      "185:\tlearn: 0.0656981\ttotal: 21.2s\tremaining: 1.59s\n",
      "186:\tlearn: 0.0656926\ttotal: 21.3s\tremaining: 1.48s\n",
      "187:\tlearn: 0.0656874\ttotal: 21.4s\tremaining: 1.36s\n",
      "188:\tlearn: 0.0656813\ttotal: 21.5s\tremaining: 1.25s\n",
      "189:\tlearn: 0.0656745\ttotal: 21.6s\tremaining: 1.14s\n",
      "190:\tlearn: 0.0656696\ttotal: 21.7s\tremaining: 1.02s\n",
      "191:\tlearn: 0.0656649\ttotal: 21.8s\tremaining: 907ms\n",
      "192:\tlearn: 0.0656588\ttotal: 21.9s\tremaining: 794ms\n",
      "193:\tlearn: 0.0656518\ttotal: 22s\tremaining: 681ms\n",
      "194:\tlearn: 0.0656443\ttotal: 22.1s\tremaining: 567ms\n",
      "195:\tlearn: 0.0656363\ttotal: 22.2s\tremaining: 454ms\n",
      "196:\tlearn: 0.0656277\ttotal: 22.3s\tremaining: 340ms\n",
      "197:\tlearn: 0.0656203\ttotal: 22.4s\tremaining: 227ms\n",
      "198:\tlearn: 0.0656140\ttotal: 22.6s\tremaining: 113ms\n",
      "199:\tlearn: 0.0656099\ttotal: 22.7s\tremaining: 0us\n",
      "0:\tlearn: 0.0681198\ttotal: 104ms\tremaining: 20.7s\n",
      "1:\tlearn: 0.0679105\ttotal: 206ms\tremaining: 20.4s\n",
      "2:\tlearn: 0.0677826\ttotal: 308ms\tremaining: 20.2s\n",
      "3:\tlearn: 0.0677033\ttotal: 413ms\tremaining: 20.2s\n",
      "4:\tlearn: 0.0676393\ttotal: 516ms\tremaining: 20.1s\n",
      "5:\tlearn: 0.0676018\ttotal: 619ms\tremaining: 20s\n",
      "6:\tlearn: 0.0675575\ttotal: 721ms\tremaining: 19.9s\n",
      "7:\tlearn: 0.0675249\ttotal: 824ms\tremaining: 19.8s\n",
      "8:\tlearn: 0.0674999\ttotal: 927ms\tremaining: 19.7s\n",
      "9:\tlearn: 0.0674667\ttotal: 1.03s\tremaining: 19.6s\n",
      "10:\tlearn: 0.0674335\ttotal: 1.13s\tremaining: 19.5s\n",
      "11:\tlearn: 0.0674116\ttotal: 1.24s\tremaining: 19.4s\n",
      "12:\tlearn: 0.0673877\ttotal: 1.34s\tremaining: 19.2s\n",
      "13:\tlearn: 0.0673675\ttotal: 1.44s\tremaining: 19.1s\n",
      "14:\tlearn: 0.0673509\ttotal: 1.54s\tremaining: 19s\n",
      "15:\tlearn: 0.0673353\ttotal: 1.64s\tremaining: 18.9s\n",
      "16:\tlearn: 0.0673163\ttotal: 1.75s\tremaining: 18.8s\n",
      "17:\tlearn: 0.0672944\ttotal: 1.85s\tremaining: 18.7s\n",
      "18:\tlearn: 0.0672801\ttotal: 1.96s\tremaining: 18.6s\n",
      "19:\tlearn: 0.0672656\ttotal: 2.06s\tremaining: 18.5s\n",
      "20:\tlearn: 0.0672512\ttotal: 2.16s\tremaining: 18.4s\n",
      "21:\tlearn: 0.0672278\ttotal: 2.26s\tremaining: 18.3s\n",
      "22:\tlearn: 0.0672057\ttotal: 2.36s\tremaining: 18.2s\n",
      "23:\tlearn: 0.0671886\ttotal: 2.46s\tremaining: 18.1s\n",
      "24:\tlearn: 0.0671760\ttotal: 2.57s\tremaining: 18s\n",
      "25:\tlearn: 0.0671569\ttotal: 2.67s\tremaining: 17.9s\n",
      "26:\tlearn: 0.0671331\ttotal: 2.77s\tremaining: 17.8s\n",
      "27:\tlearn: 0.0671180\ttotal: 2.88s\tremaining: 17.7s\n",
      "28:\tlearn: 0.0671034\ttotal: 2.99s\tremaining: 17.6s\n",
      "29:\tlearn: 0.0670867\ttotal: 3.12s\tremaining: 17.7s\n",
      "30:\tlearn: 0.0670702\ttotal: 3.24s\tremaining: 17.7s\n",
      "31:\tlearn: 0.0670484\ttotal: 3.37s\tremaining: 17.7s\n",
      "32:\tlearn: 0.0670322\ttotal: 3.49s\tremaining: 17.7s\n",
      "33:\tlearn: 0.0670201\ttotal: 3.63s\tremaining: 17.7s\n",
      "34:\tlearn: 0.0670020\ttotal: 3.74s\tremaining: 17.6s\n",
      "35:\tlearn: 0.0669924\ttotal: 3.84s\tremaining: 17.5s\n",
      "36:\tlearn: 0.0669766\ttotal: 3.95s\tremaining: 17.4s\n",
      "37:\tlearn: 0.0669623\ttotal: 4.05s\tremaining: 17.3s\n",
      "38:\tlearn: 0.0669530\ttotal: 4.16s\tremaining: 17.2s\n",
      "39:\tlearn: 0.0669411\ttotal: 4.28s\tremaining: 17.1s\n",
      "40:\tlearn: 0.0669294\ttotal: 4.39s\tremaining: 17s\n",
      "41:\tlearn: 0.0669161\ttotal: 4.52s\tremaining: 17s\n",
      "42:\tlearn: 0.0669061\ttotal: 4.62s\tremaining: 16.9s\n",
      "43:\tlearn: 0.0668985\ttotal: 4.73s\tremaining: 16.8s\n",
      "44:\tlearn: 0.0668831\ttotal: 4.83s\tremaining: 16.7s\n",
      "45:\tlearn: 0.0668738\ttotal: 4.94s\tremaining: 16.5s\n",
      "46:\tlearn: 0.0668591\ttotal: 5.04s\tremaining: 16.4s\n",
      "47:\tlearn: 0.0668397\ttotal: 5.14s\tremaining: 16.3s\n",
      "48:\tlearn: 0.0668238\ttotal: 5.25s\tremaining: 16.2s\n",
      "49:\tlearn: 0.0668117\ttotal: 5.35s\tremaining: 16.1s\n",
      "50:\tlearn: 0.0667995\ttotal: 5.46s\tremaining: 15.9s\n",
      "51:\tlearn: 0.0667857\ttotal: 5.56s\tremaining: 15.8s\n",
      "52:\tlearn: 0.0667692\ttotal: 5.66s\tremaining: 15.7s\n",
      "53:\tlearn: 0.0667604\ttotal: 5.76s\tremaining: 15.6s\n",
      "54:\tlearn: 0.0667520\ttotal: 5.86s\tremaining: 15.5s\n",
      "55:\tlearn: 0.0667374\ttotal: 5.97s\tremaining: 15.3s\n",
      "56:\tlearn: 0.0667269\ttotal: 6.07s\tremaining: 15.2s\n",
      "57:\tlearn: 0.0667195\ttotal: 6.18s\tremaining: 15.1s\n",
      "58:\tlearn: 0.0667109\ttotal: 6.28s\tremaining: 15s\n",
      "59:\tlearn: 0.0666982\ttotal: 6.38s\tremaining: 14.9s\n",
      "60:\tlearn: 0.0666904\ttotal: 6.49s\tremaining: 14.8s\n",
      "61:\tlearn: 0.0666815\ttotal: 6.59s\tremaining: 14.7s\n",
      "62:\tlearn: 0.0666686\ttotal: 6.69s\tremaining: 14.5s\n",
      "63:\tlearn: 0.0666621\ttotal: 6.79s\tremaining: 14.4s\n",
      "64:\tlearn: 0.0666501\ttotal: 6.91s\tremaining: 14.3s\n",
      "65:\tlearn: 0.0666398\ttotal: 7.05s\tremaining: 14.3s\n",
      "66:\tlearn: 0.0666288\ttotal: 7.19s\tremaining: 14.3s\n",
      "67:\tlearn: 0.0666169\ttotal: 7.29s\tremaining: 14.2s\n",
      "68:\tlearn: 0.0666052\ttotal: 7.4s\tremaining: 14s\n",
      "69:\tlearn: 0.0665968\ttotal: 7.5s\tremaining: 13.9s\n",
      "70:\tlearn: 0.0665830\ttotal: 7.63s\tremaining: 13.9s\n",
      "71:\tlearn: 0.0665793\ttotal: 7.76s\tremaining: 13.8s\n",
      "72:\tlearn: 0.0665716\ttotal: 7.9s\tremaining: 13.7s\n",
      "73:\tlearn: 0.0665619\ttotal: 8.01s\tremaining: 13.6s\n",
      "74:\tlearn: 0.0665464\ttotal: 8.11s\tremaining: 13.5s\n",
      "75:\tlearn: 0.0665360\ttotal: 8.21s\tremaining: 13.4s\n",
      "76:\tlearn: 0.0665261\ttotal: 8.32s\tremaining: 13.3s\n",
      "77:\tlearn: 0.0665158\ttotal: 8.42s\tremaining: 13.2s\n",
      "78:\tlearn: 0.0665047\ttotal: 8.54s\tremaining: 13.1s\n",
      "79:\tlearn: 0.0664988\ttotal: 8.65s\tremaining: 13s\n",
      "80:\tlearn: 0.0664872\ttotal: 8.76s\tremaining: 12.9s\n",
      "81:\tlearn: 0.0664805\ttotal: 8.87s\tremaining: 12.8s\n",
      "82:\tlearn: 0.0664683\ttotal: 8.98s\tremaining: 12.7s\n",
      "83:\tlearn: 0.0664600\ttotal: 9.11s\tremaining: 12.6s\n",
      "84:\tlearn: 0.0664494\ttotal: 9.22s\tremaining: 12.5s\n",
      "85:\tlearn: 0.0664386\ttotal: 9.32s\tremaining: 12.4s\n",
      "86:\tlearn: 0.0664324\ttotal: 9.45s\tremaining: 12.3s\n",
      "87:\tlearn: 0.0664205\ttotal: 9.57s\tremaining: 12.2s\n",
      "88:\tlearn: 0.0664125\ttotal: 9.69s\tremaining: 12.1s\n",
      "89:\tlearn: 0.0664086\ttotal: 9.8s\tremaining: 12s\n",
      "90:\tlearn: 0.0663978\ttotal: 9.9s\tremaining: 11.9s\n",
      "91:\tlearn: 0.0663890\ttotal: 10s\tremaining: 11.8s\n",
      "92:\tlearn: 0.0663827\ttotal: 10.1s\tremaining: 11.6s\n",
      "93:\tlearn: 0.0663761\ttotal: 10.2s\tremaining: 11.5s\n",
      "94:\tlearn: 0.0663668\ttotal: 10.3s\tremaining: 11.4s\n",
      "95:\tlearn: 0.0663600\ttotal: 10.4s\tremaining: 11.3s\n",
      "96:\tlearn: 0.0663511\ttotal: 10.6s\tremaining: 11.2s\n",
      "97:\tlearn: 0.0663373\ttotal: 10.7s\tremaining: 11.1s\n",
      "98:\tlearn: 0.0663312\ttotal: 10.8s\tremaining: 11s\n",
      "99:\tlearn: 0.0663223\ttotal: 10.9s\tremaining: 10.9s\n",
      "100:\tlearn: 0.0663182\ttotal: 11s\tremaining: 10.8s\n",
      "101:\tlearn: 0.0663116\ttotal: 11.1s\tremaining: 10.7s\n",
      "102:\tlearn: 0.0663081\ttotal: 11.3s\tremaining: 10.6s\n",
      "103:\tlearn: 0.0662967\ttotal: 11.4s\tremaining: 10.5s\n",
      "104:\tlearn: 0.0662919\ttotal: 11.5s\tremaining: 10.4s\n",
      "105:\tlearn: 0.0662806\ttotal: 11.6s\tremaining: 10.3s\n",
      "106:\tlearn: 0.0662761\ttotal: 11.7s\tremaining: 10.2s\n",
      "107:\tlearn: 0.0662659\ttotal: 11.8s\tremaining: 10.1s\n",
      "108:\tlearn: 0.0662561\ttotal: 12s\tremaining: 9.99s\n",
      "109:\tlearn: 0.0662488\ttotal: 12.1s\tremaining: 9.88s\n",
      "110:\tlearn: 0.0662377\ttotal: 12.2s\tremaining: 9.77s\n",
      "111:\tlearn: 0.0662251\ttotal: 12.3s\tremaining: 9.66s\n",
      "112:\tlearn: 0.0662144\ttotal: 12.4s\tremaining: 9.55s\n",
      "113:\tlearn: 0.0662065\ttotal: 12.5s\tremaining: 9.44s\n",
      "114:\tlearn: 0.0661939\ttotal: 12.6s\tremaining: 9.32s\n",
      "115:\tlearn: 0.0661891\ttotal: 12.7s\tremaining: 9.21s\n",
      "116:\tlearn: 0.0661804\ttotal: 12.8s\tremaining: 9.1s\n",
      "117:\tlearn: 0.0661716\ttotal: 12.9s\tremaining: 8.98s\n",
      "118:\tlearn: 0.0661623\ttotal: 13s\tremaining: 8.88s\n",
      "119:\tlearn: 0.0661554\ttotal: 13.1s\tremaining: 8.76s\n",
      "120:\tlearn: 0.0661478\ttotal: 13.3s\tremaining: 8.65s\n",
      "121:\tlearn: 0.0661422\ttotal: 13.4s\tremaining: 8.54s\n",
      "122:\tlearn: 0.0661339\ttotal: 13.5s\tremaining: 8.43s\n"
     ]
    },
    {
     "name": "stdout",
     "output_type": "stream",
     "text": [
      "123:\tlearn: 0.0661287\ttotal: 13.6s\tremaining: 8.32s\n",
      "124:\tlearn: 0.0661213\ttotal: 13.7s\tremaining: 8.2s\n",
      "125:\tlearn: 0.0661119\ttotal: 13.8s\tremaining: 8.09s\n",
      "126:\tlearn: 0.0661037\ttotal: 13.9s\tremaining: 7.98s\n",
      "127:\tlearn: 0.0660979\ttotal: 14s\tremaining: 7.87s\n",
      "128:\tlearn: 0.0660877\ttotal: 14.1s\tremaining: 7.76s\n",
      "129:\tlearn: 0.0660783\ttotal: 14.2s\tremaining: 7.65s\n",
      "130:\tlearn: 0.0660705\ttotal: 14.3s\tremaining: 7.54s\n",
      "131:\tlearn: 0.0660616\ttotal: 14.4s\tremaining: 7.42s\n",
      "132:\tlearn: 0.0660515\ttotal: 14.5s\tremaining: 7.31s\n",
      "133:\tlearn: 0.0660473\ttotal: 14.6s\tremaining: 7.2s\n",
      "134:\tlearn: 0.0660424\ttotal: 14.7s\tremaining: 7.09s\n",
      "135:\tlearn: 0.0660302\ttotal: 14.8s\tremaining: 6.99s\n",
      "136:\tlearn: 0.0660202\ttotal: 15s\tremaining: 6.88s\n",
      "137:\tlearn: 0.0660139\ttotal: 15.1s\tremaining: 6.77s\n",
      "138:\tlearn: 0.0660043\ttotal: 15.2s\tremaining: 6.65s\n",
      "139:\tlearn: 0.0659978\ttotal: 15.3s\tremaining: 6.54s\n",
      "140:\tlearn: 0.0659900\ttotal: 15.4s\tremaining: 6.43s\n",
      "141:\tlearn: 0.0659835\ttotal: 15.5s\tremaining: 6.32s\n",
      "142:\tlearn: 0.0659763\ttotal: 15.6s\tremaining: 6.21s\n",
      "143:\tlearn: 0.0659711\ttotal: 15.7s\tremaining: 6.1s\n",
      "144:\tlearn: 0.0659656\ttotal: 15.8s\tremaining: 5.99s\n",
      "145:\tlearn: 0.0659579\ttotal: 15.9s\tremaining: 5.88s\n",
      "146:\tlearn: 0.0659491\ttotal: 16s\tremaining: 5.77s\n",
      "147:\tlearn: 0.0659408\ttotal: 16.1s\tremaining: 5.66s\n",
      "148:\tlearn: 0.0659327\ttotal: 16.2s\tremaining: 5.55s\n",
      "149:\tlearn: 0.0659284\ttotal: 16.3s\tremaining: 5.44s\n",
      "150:\tlearn: 0.0659212\ttotal: 16.4s\tremaining: 5.33s\n",
      "151:\tlearn: 0.0659142\ttotal: 16.5s\tremaining: 5.22s\n",
      "152:\tlearn: 0.0659060\ttotal: 16.6s\tremaining: 5.11s\n",
      "153:\tlearn: 0.0658986\ttotal: 16.7s\tremaining: 5s\n",
      "154:\tlearn: 0.0658903\ttotal: 16.9s\tremaining: 4.89s\n",
      "155:\tlearn: 0.0658847\ttotal: 17s\tremaining: 4.78s\n",
      "156:\tlearn: 0.0658779\ttotal: 17.1s\tremaining: 4.67s\n",
      "157:\tlearn: 0.0658715\ttotal: 17.2s\tremaining: 4.56s\n",
      "158:\tlearn: 0.0658633\ttotal: 17.3s\tremaining: 4.46s\n",
      "159:\tlearn: 0.0658566\ttotal: 17.4s\tremaining: 4.34s\n",
      "160:\tlearn: 0.0658511\ttotal: 17.5s\tremaining: 4.24s\n",
      "161:\tlearn: 0.0658442\ttotal: 17.6s\tremaining: 4.13s\n",
      "162:\tlearn: 0.0658337\ttotal: 17.7s\tremaining: 4.01s\n",
      "163:\tlearn: 0.0658277\ttotal: 17.8s\tremaining: 3.91s\n",
      "164:\tlearn: 0.0658204\ttotal: 17.9s\tremaining: 3.8s\n",
      "165:\tlearn: 0.0658148\ttotal: 18s\tremaining: 3.69s\n",
      "166:\tlearn: 0.0658101\ttotal: 18.1s\tremaining: 3.58s\n",
      "167:\tlearn: 0.0658024\ttotal: 18.2s\tremaining: 3.47s\n",
      "168:\tlearn: 0.0657967\ttotal: 18.3s\tremaining: 3.36s\n",
      "169:\tlearn: 0.0657856\ttotal: 18.4s\tremaining: 3.25s\n",
      "170:\tlearn: 0.0657797\ttotal: 18.5s\tremaining: 3.14s\n",
      "171:\tlearn: 0.0657699\ttotal: 18.6s\tremaining: 3.03s\n",
      "172:\tlearn: 0.0657666\ttotal: 18.7s\tremaining: 2.92s\n",
      "173:\tlearn: 0.0657564\ttotal: 18.8s\tremaining: 2.81s\n",
      "174:\tlearn: 0.0657507\ttotal: 18.9s\tremaining: 2.71s\n",
      "175:\tlearn: 0.0657444\ttotal: 19s\tremaining: 2.6s\n",
      "176:\tlearn: 0.0657424\ttotal: 19.1s\tremaining: 2.49s\n",
      "177:\tlearn: 0.0657349\ttotal: 19.3s\tremaining: 2.38s\n",
      "178:\tlearn: 0.0657257\ttotal: 19.4s\tremaining: 2.27s\n",
      "179:\tlearn: 0.0657181\ttotal: 19.5s\tremaining: 2.16s\n",
      "180:\tlearn: 0.0657099\ttotal: 19.6s\tremaining: 2.05s\n",
      "181:\tlearn: 0.0657015\ttotal: 19.7s\tremaining: 1.95s\n",
      "182:\tlearn: 0.0656938\ttotal: 19.8s\tremaining: 1.84s\n",
      "183:\tlearn: 0.0656865\ttotal: 19.9s\tremaining: 1.73s\n",
      "184:\tlearn: 0.0656765\ttotal: 20s\tremaining: 1.62s\n",
      "185:\tlearn: 0.0656670\ttotal: 20.1s\tremaining: 1.51s\n",
      "186:\tlearn: 0.0656620\ttotal: 20.2s\tremaining: 1.4s\n",
      "187:\tlearn: 0.0656560\ttotal: 20.3s\tremaining: 1.3s\n",
      "188:\tlearn: 0.0656504\ttotal: 20.4s\tremaining: 1.19s\n",
      "189:\tlearn: 0.0656419\ttotal: 20.5s\tremaining: 1.08s\n",
      "190:\tlearn: 0.0656362\ttotal: 20.6s\tremaining: 971ms\n",
      "191:\tlearn: 0.0656301\ttotal: 20.7s\tremaining: 863ms\n",
      "192:\tlearn: 0.0656224\ttotal: 20.8s\tremaining: 755ms\n",
      "193:\tlearn: 0.0656176\ttotal: 20.9s\tremaining: 647ms\n",
      "194:\tlearn: 0.0656131\ttotal: 21s\tremaining: 539ms\n",
      "195:\tlearn: 0.0656071\ttotal: 21.1s\tremaining: 431ms\n",
      "196:\tlearn: 0.0655992\ttotal: 21.2s\tremaining: 323ms\n",
      "197:\tlearn: 0.0655905\ttotal: 21.3s\tremaining: 216ms\n",
      "198:\tlearn: 0.0655823\ttotal: 21.4s\tremaining: 108ms\n",
      "199:\tlearn: 0.0655752\ttotal: 21.5s\tremaining: 0us\n",
      "0:\tlearn: 0.0680914\ttotal: 113ms\tremaining: 22.4s\n",
      "1:\tlearn: 0.0679026\ttotal: 212ms\tremaining: 21s\n",
      "2:\tlearn: 0.0677837\ttotal: 313ms\tremaining: 20.6s\n",
      "3:\tlearn: 0.0677090\ttotal: 422ms\tremaining: 20.7s\n",
      "4:\tlearn: 0.0676504\ttotal: 531ms\tremaining: 20.7s\n",
      "5:\tlearn: 0.0676013\ttotal: 636ms\tremaining: 20.6s\n",
      "6:\tlearn: 0.0675658\ttotal: 737ms\tremaining: 20.3s\n",
      "7:\tlearn: 0.0675317\ttotal: 847ms\tremaining: 20.3s\n",
      "8:\tlearn: 0.0674921\ttotal: 949ms\tremaining: 20.1s\n",
      "9:\tlearn: 0.0674660\ttotal: 1.05s\tremaining: 20s\n",
      "10:\tlearn: 0.0674312\ttotal: 1.17s\tremaining: 20.1s\n",
      "11:\tlearn: 0.0674031\ttotal: 1.27s\tremaining: 19.9s\n",
      "12:\tlearn: 0.0673822\ttotal: 1.37s\tremaining: 19.8s\n",
      "13:\tlearn: 0.0673625\ttotal: 1.48s\tremaining: 19.7s\n",
      "14:\tlearn: 0.0673445\ttotal: 1.59s\tremaining: 19.6s\n",
      "15:\tlearn: 0.0673295\ttotal: 1.7s\tremaining: 19.5s\n",
      "16:\tlearn: 0.0673058\ttotal: 1.8s\tremaining: 19.4s\n",
      "17:\tlearn: 0.0672821\ttotal: 1.9s\tremaining: 19.2s\n",
      "18:\tlearn: 0.0672603\ttotal: 2s\tremaining: 19.1s\n",
      "19:\tlearn: 0.0672310\ttotal: 2.11s\tremaining: 19s\n",
      "20:\tlearn: 0.0672214\ttotal: 2.21s\tremaining: 18.9s\n",
      "21:\tlearn: 0.0672043\ttotal: 2.31s\tremaining: 18.7s\n",
      "22:\tlearn: 0.0671936\ttotal: 2.42s\tremaining: 18.7s\n",
      "23:\tlearn: 0.0671806\ttotal: 2.54s\tremaining: 18.6s\n",
      "24:\tlearn: 0.0671590\ttotal: 2.64s\tremaining: 18.5s\n",
      "25:\tlearn: 0.0671396\ttotal: 2.75s\tremaining: 18.4s\n",
      "26:\tlearn: 0.0671249\ttotal: 2.85s\tremaining: 18.3s\n",
      "27:\tlearn: 0.0671107\ttotal: 2.96s\tremaining: 18.2s\n",
      "28:\tlearn: 0.0670893\ttotal: 3.06s\tremaining: 18s\n",
      "29:\tlearn: 0.0670753\ttotal: 3.17s\tremaining: 18s\n",
      "30:\tlearn: 0.0670577\ttotal: 3.27s\tremaining: 17.8s\n",
      "31:\tlearn: 0.0670338\ttotal: 3.37s\tremaining: 17.7s\n",
      "32:\tlearn: 0.0670175\ttotal: 3.48s\tremaining: 17.6s\n",
      "33:\tlearn: 0.0670014\ttotal: 3.58s\tremaining: 17.5s\n",
      "34:\tlearn: 0.0669914\ttotal: 3.68s\tremaining: 17.4s\n",
      "35:\tlearn: 0.0669745\ttotal: 3.79s\tremaining: 17.3s\n",
      "36:\tlearn: 0.0669658\ttotal: 3.89s\tremaining: 17.2s\n",
      "37:\tlearn: 0.0669529\ttotal: 4s\tremaining: 17s\n",
      "38:\tlearn: 0.0669415\ttotal: 4.11s\tremaining: 17s\n",
      "39:\tlearn: 0.0669297\ttotal: 4.21s\tremaining: 16.8s\n",
      "40:\tlearn: 0.0669164\ttotal: 4.31s\tremaining: 16.7s\n",
      "41:\tlearn: 0.0669073\ttotal: 4.42s\tremaining: 16.6s\n",
      "42:\tlearn: 0.0669011\ttotal: 4.53s\tremaining: 16.5s\n",
      "43:\tlearn: 0.0668926\ttotal: 4.63s\tremaining: 16.4s\n",
      "44:\tlearn: 0.0668836\ttotal: 4.74s\tremaining: 16.3s\n",
      "45:\tlearn: 0.0668725\ttotal: 4.85s\tremaining: 16.2s\n",
      "46:\tlearn: 0.0668638\ttotal: 4.95s\tremaining: 16.1s\n",
      "47:\tlearn: 0.0668569\ttotal: 5.06s\tremaining: 16s\n",
      "48:\tlearn: 0.0668419\ttotal: 5.17s\tremaining: 15.9s\n",
      "49:\tlearn: 0.0668331\ttotal: 5.27s\tremaining: 15.8s\n",
      "50:\tlearn: 0.0668201\ttotal: 5.37s\tremaining: 15.7s\n",
      "51:\tlearn: 0.0668082\ttotal: 5.48s\tremaining: 15.6s\n",
      "52:\tlearn: 0.0667937\ttotal: 5.58s\tremaining: 15.5s\n",
      "53:\tlearn: 0.0667769\ttotal: 5.69s\tremaining: 15.4s\n",
      "54:\tlearn: 0.0667705\ttotal: 5.79s\tremaining: 15.3s\n",
      "55:\tlearn: 0.0667545\ttotal: 5.9s\tremaining: 15.2s\n",
      "56:\tlearn: 0.0667423\ttotal: 6s\tremaining: 15.1s\n",
      "57:\tlearn: 0.0667312\ttotal: 6.12s\tremaining: 15s\n",
      "58:\tlearn: 0.0667208\ttotal: 6.23s\tremaining: 14.9s\n",
      "59:\tlearn: 0.0667109\ttotal: 6.33s\tremaining: 14.8s\n",
      "60:\tlearn: 0.0667001\ttotal: 6.44s\tremaining: 14.7s\n",
      "61:\tlearn: 0.0666876\ttotal: 6.54s\tremaining: 14.6s\n",
      "62:\tlearn: 0.0666789\ttotal: 6.64s\tremaining: 14.4s\n",
      "63:\tlearn: 0.0666721\ttotal: 6.75s\tremaining: 14.3s\n",
      "64:\tlearn: 0.0666615\ttotal: 6.86s\tremaining: 14.2s\n",
      "65:\tlearn: 0.0666496\ttotal: 6.96s\tremaining: 14.1s\n",
      "66:\tlearn: 0.0666405\ttotal: 7.06s\tremaining: 14s\n",
      "67:\tlearn: 0.0666325\ttotal: 7.17s\tremaining: 13.9s\n",
      "68:\tlearn: 0.0666258\ttotal: 7.27s\tremaining: 13.8s\n",
      "69:\tlearn: 0.0666195\ttotal: 7.38s\tremaining: 13.7s\n",
      "70:\tlearn: 0.0666079\ttotal: 7.48s\tremaining: 13.6s\n",
      "71:\tlearn: 0.0665991\ttotal: 7.59s\tremaining: 13.5s\n",
      "72:\tlearn: 0.0665909\ttotal: 7.7s\tremaining: 13.4s\n",
      "73:\tlearn: 0.0665804\ttotal: 7.8s\tremaining: 13.3s\n",
      "74:\tlearn: 0.0665696\ttotal: 7.91s\tremaining: 13.2s\n",
      "75:\tlearn: 0.0665548\ttotal: 8.01s\tremaining: 13.1s\n",
      "76:\tlearn: 0.0665480\ttotal: 8.11s\tremaining: 13s\n",
      "77:\tlearn: 0.0665376\ttotal: 8.22s\tremaining: 12.9s\n",
      "78:\tlearn: 0.0665293\ttotal: 8.32s\tremaining: 12.7s\n",
      "79:\tlearn: 0.0665202\ttotal: 8.42s\tremaining: 12.6s\n",
      "80:\tlearn: 0.0665112\ttotal: 8.53s\tremaining: 12.5s\n",
      "81:\tlearn: 0.0665037\ttotal: 8.63s\tremaining: 12.4s\n",
      "82:\tlearn: 0.0664962\ttotal: 8.74s\tremaining: 12.3s\n",
      "83:\tlearn: 0.0664879\ttotal: 8.85s\tremaining: 12.2s\n",
      "84:\tlearn: 0.0664764\ttotal: 8.95s\tremaining: 12.1s\n"
     ]
    },
    {
     "name": "stdout",
     "output_type": "stream",
     "text": [
      "85:\tlearn: 0.0664696\ttotal: 9.05s\tremaining: 12s\n",
      "86:\tlearn: 0.0664586\ttotal: 9.16s\tremaining: 11.9s\n",
      "87:\tlearn: 0.0664527\ttotal: 9.27s\tremaining: 11.8s\n",
      "88:\tlearn: 0.0664432\ttotal: 9.37s\tremaining: 11.7s\n",
      "89:\tlearn: 0.0664335\ttotal: 9.47s\tremaining: 11.6s\n",
      "90:\tlearn: 0.0664212\ttotal: 9.58s\tremaining: 11.5s\n",
      "91:\tlearn: 0.0664077\ttotal: 9.68s\tremaining: 11.4s\n",
      "92:\tlearn: 0.0663973\ttotal: 9.79s\tremaining: 11.3s\n",
      "93:\tlearn: 0.0663923\ttotal: 9.89s\tremaining: 11.2s\n",
      "94:\tlearn: 0.0663831\ttotal: 9.99s\tremaining: 11s\n",
      "95:\tlearn: 0.0663741\ttotal: 10.1s\tremaining: 10.9s\n",
      "96:\tlearn: 0.0663646\ttotal: 10.2s\tremaining: 10.8s\n",
      "97:\tlearn: 0.0663563\ttotal: 10.3s\tremaining: 10.7s\n",
      "98:\tlearn: 0.0663475\ttotal: 10.4s\tremaining: 10.6s\n",
      "99:\tlearn: 0.0663419\ttotal: 10.5s\tremaining: 10.5s\n",
      "100:\tlearn: 0.0663355\ttotal: 10.6s\tremaining: 10.4s\n",
      "101:\tlearn: 0.0663285\ttotal: 10.7s\tremaining: 10.3s\n",
      "102:\tlearn: 0.0663228\ttotal: 10.8s\tremaining: 10.2s\n",
      "103:\tlearn: 0.0663122\ttotal: 10.9s\tremaining: 10.1s\n",
      "104:\tlearn: 0.0663014\ttotal: 11s\tremaining: 9.99s\n",
      "105:\tlearn: 0.0662927\ttotal: 11.1s\tremaining: 9.89s\n",
      "106:\tlearn: 0.0662824\ttotal: 11.3s\tremaining: 9.78s\n",
      "107:\tlearn: 0.0662744\ttotal: 11.4s\tremaining: 9.67s\n",
      "108:\tlearn: 0.0662629\ttotal: 11.5s\tremaining: 9.57s\n",
      "109:\tlearn: 0.0662543\ttotal: 11.6s\tremaining: 9.48s\n",
      "110:\tlearn: 0.0662483\ttotal: 11.7s\tremaining: 9.37s\n",
      "111:\tlearn: 0.0662351\ttotal: 11.8s\tremaining: 9.26s\n",
      "112:\tlearn: 0.0662282\ttotal: 11.9s\tremaining: 9.16s\n",
      "113:\tlearn: 0.0662210\ttotal: 12s\tremaining: 9.05s\n",
      "114:\tlearn: 0.0662135\ttotal: 12.1s\tremaining: 8.95s\n",
      "115:\tlearn: 0.0662065\ttotal: 12.2s\tremaining: 8.84s\n",
      "116:\tlearn: 0.0661985\ttotal: 12.3s\tremaining: 8.74s\n",
      "117:\tlearn: 0.0661871\ttotal: 12.4s\tremaining: 8.64s\n",
      "118:\tlearn: 0.0661767\ttotal: 12.5s\tremaining: 8.53s\n",
      "119:\tlearn: 0.0661687\ttotal: 12.6s\tremaining: 8.43s\n",
      "120:\tlearn: 0.0661617\ttotal: 12.7s\tremaining: 8.32s\n",
      "121:\tlearn: 0.0661550\ttotal: 12.8s\tremaining: 8.21s\n",
      "122:\tlearn: 0.0661422\ttotal: 12.9s\tremaining: 8.11s\n",
      "123:\tlearn: 0.0661361\ttotal: 13.1s\tremaining: 8s\n",
      "124:\tlearn: 0.0661276\ttotal: 13.2s\tremaining: 7.89s\n",
      "125:\tlearn: 0.0661195\ttotal: 13.3s\tremaining: 7.79s\n",
      "126:\tlearn: 0.0661139\ttotal: 13.4s\tremaining: 7.68s\n",
      "127:\tlearn: 0.0661092\ttotal: 13.5s\tremaining: 7.58s\n",
      "128:\tlearn: 0.0661014\ttotal: 13.6s\tremaining: 7.47s\n",
      "129:\tlearn: 0.0660980\ttotal: 13.7s\tremaining: 7.37s\n",
      "130:\tlearn: 0.0660934\ttotal: 13.8s\tremaining: 7.26s\n",
      "131:\tlearn: 0.0660870\ttotal: 13.9s\tremaining: 7.16s\n",
      "132:\tlearn: 0.0660796\ttotal: 14s\tremaining: 7.05s\n",
      "133:\tlearn: 0.0660714\ttotal: 14.1s\tremaining: 6.95s\n",
      "134:\tlearn: 0.0660669\ttotal: 14.2s\tremaining: 6.84s\n",
      "135:\tlearn: 0.0660598\ttotal: 14.3s\tremaining: 6.74s\n",
      "136:\tlearn: 0.0660543\ttotal: 14.4s\tremaining: 6.63s\n",
      "137:\tlearn: 0.0660433\ttotal: 14.5s\tremaining: 6.53s\n",
      "138:\tlearn: 0.0660336\ttotal: 14.6s\tremaining: 6.42s\n",
      "139:\tlearn: 0.0660271\ttotal: 14.8s\tremaining: 6.32s\n",
      "140:\tlearn: 0.0660207\ttotal: 14.9s\tremaining: 6.22s\n",
      "141:\tlearn: 0.0660145\ttotal: 15s\tremaining: 6.11s\n",
      "142:\tlearn: 0.0660084\ttotal: 15.1s\tremaining: 6s\n",
      "143:\tlearn: 0.0660006\ttotal: 15.2s\tremaining: 5.9s\n",
      "144:\tlearn: 0.0659940\ttotal: 15.3s\tremaining: 5.79s\n",
      "145:\tlearn: 0.0659866\ttotal: 15.4s\tremaining: 5.69s\n",
      "146:\tlearn: 0.0659759\ttotal: 15.5s\tremaining: 5.58s\n",
      "147:\tlearn: 0.0659675\ttotal: 15.6s\tremaining: 5.48s\n",
      "148:\tlearn: 0.0659583\ttotal: 15.7s\tremaining: 5.37s\n",
      "149:\tlearn: 0.0659514\ttotal: 15.8s\tremaining: 5.27s\n",
      "150:\tlearn: 0.0659445\ttotal: 15.9s\tremaining: 5.16s\n",
      "151:\tlearn: 0.0659332\ttotal: 16s\tremaining: 5.06s\n",
      "152:\tlearn: 0.0659245\ttotal: 16.1s\tremaining: 4.95s\n",
      "153:\tlearn: 0.0659184\ttotal: 16.2s\tremaining: 4.84s\n",
      "154:\tlearn: 0.0659077\ttotal: 16.3s\tremaining: 4.74s\n",
      "155:\tlearn: 0.0659002\ttotal: 16.4s\tremaining: 4.63s\n",
      "156:\tlearn: 0.0658908\ttotal: 16.5s\tremaining: 4.53s\n",
      "157:\tlearn: 0.0658840\ttotal: 16.6s\tremaining: 4.42s\n",
      "158:\tlearn: 0.0658805\ttotal: 16.7s\tremaining: 4.32s\n",
      "159:\tlearn: 0.0658772\ttotal: 16.9s\tremaining: 4.21s\n",
      "160:\tlearn: 0.0658746\ttotal: 17s\tremaining: 4.11s\n",
      "161:\tlearn: 0.0658647\ttotal: 17.2s\tremaining: 4.03s\n",
      "162:\tlearn: 0.0658531\ttotal: 17.4s\tremaining: 3.96s\n",
      "163:\tlearn: 0.0658486\ttotal: 17.7s\tremaining: 3.88s\n",
      "164:\tlearn: 0.0658430\ttotal: 18.1s\tremaining: 3.85s\n",
      "165:\tlearn: 0.0658359\ttotal: 18.5s\tremaining: 3.79s\n",
      "166:\tlearn: 0.0658303\ttotal: 18.6s\tremaining: 3.68s\n",
      "167:\tlearn: 0.0658196\ttotal: 18.8s\tremaining: 3.58s\n",
      "168:\tlearn: 0.0658108\ttotal: 18.9s\tremaining: 3.46s\n",
      "169:\tlearn: 0.0658044\ttotal: 19s\tremaining: 3.35s\n",
      "170:\tlearn: 0.0657995\ttotal: 19.1s\tremaining: 3.24s\n",
      "171:\tlearn: 0.0657912\ttotal: 19.2s\tremaining: 3.13s\n",
      "172:\tlearn: 0.0657829\ttotal: 19.5s\tremaining: 3.04s\n",
      "173:\tlearn: 0.0657772\ttotal: 19.6s\tremaining: 2.92s\n",
      "174:\tlearn: 0.0657688\ttotal: 19.7s\tremaining: 2.81s\n",
      "175:\tlearn: 0.0657605\ttotal: 19.8s\tremaining: 2.7s\n",
      "176:\tlearn: 0.0657546\ttotal: 19.9s\tremaining: 2.59s\n",
      "177:\tlearn: 0.0657474\ttotal: 20s\tremaining: 2.47s\n",
      "178:\tlearn: 0.0657409\ttotal: 20.1s\tremaining: 2.36s\n",
      "179:\tlearn: 0.0657334\ttotal: 20.2s\tremaining: 2.25s\n",
      "180:\tlearn: 0.0657247\ttotal: 20.3s\tremaining: 2.13s\n",
      "181:\tlearn: 0.0657166\ttotal: 20.5s\tremaining: 2.02s\n",
      "182:\tlearn: 0.0657080\ttotal: 20.6s\tremaining: 1.91s\n",
      "183:\tlearn: 0.0657028\ttotal: 20.7s\tremaining: 1.8s\n",
      "184:\tlearn: 0.0656971\ttotal: 20.8s\tremaining: 1.69s\n",
      "185:\tlearn: 0.0656874\ttotal: 20.9s\tremaining: 1.57s\n",
      "186:\tlearn: 0.0656812\ttotal: 21s\tremaining: 1.46s\n",
      "187:\tlearn: 0.0656724\ttotal: 21.1s\tremaining: 1.35s\n",
      "188:\tlearn: 0.0656663\ttotal: 21.2s\tremaining: 1.24s\n",
      "189:\tlearn: 0.0656557\ttotal: 21.3s\tremaining: 1.12s\n",
      "190:\tlearn: 0.0656493\ttotal: 21.5s\tremaining: 1.01s\n",
      "191:\tlearn: 0.0656439\ttotal: 21.6s\tremaining: 898ms\n",
      "192:\tlearn: 0.0656354\ttotal: 21.7s\tremaining: 786ms\n",
      "193:\tlearn: 0.0656286\ttotal: 21.8s\tremaining: 674ms\n",
      "194:\tlearn: 0.0656186\ttotal: 21.9s\tremaining: 561ms\n",
      "195:\tlearn: 0.0656121\ttotal: 22s\tremaining: 449ms\n",
      "196:\tlearn: 0.0656049\ttotal: 22.1s\tremaining: 337ms\n",
      "197:\tlearn: 0.0656009\ttotal: 22.2s\tremaining: 224ms\n",
      "198:\tlearn: 0.0655933\ttotal: 22.3s\tremaining: 112ms\n",
      "199:\tlearn: 0.0655887\ttotal: 22.5s\tremaining: 0us\n",
      "0:\tlearn: 0.0680988\ttotal: 110ms\tremaining: 21.8s\n",
      "1:\tlearn: 0.0678898\ttotal: 216ms\tremaining: 21.4s\n",
      "2:\tlearn: 0.0677731\ttotal: 400ms\tremaining: 26.2s\n",
      "3:\tlearn: 0.0676980\ttotal: 676ms\tremaining: 33.1s\n",
      "4:\tlearn: 0.0676398\ttotal: 1.04s\tremaining: 40.7s\n",
      "5:\tlearn: 0.0676013\ttotal: 1.36s\tremaining: 44s\n",
      "6:\tlearn: 0.0675619\ttotal: 1.61s\tremaining: 44.5s\n",
      "7:\tlearn: 0.0675265\ttotal: 1.89s\tremaining: 45.3s\n",
      "8:\tlearn: 0.0675040\ttotal: 2.03s\tremaining: 43s\n",
      "9:\tlearn: 0.0674749\ttotal: 2.14s\tremaining: 40.6s\n",
      "10:\tlearn: 0.0674445\ttotal: 2.24s\tremaining: 38.5s\n",
      "11:\tlearn: 0.0674215\ttotal: 2.35s\tremaining: 36.8s\n",
      "12:\tlearn: 0.0673919\ttotal: 2.46s\tremaining: 35.4s\n",
      "13:\tlearn: 0.0673659\ttotal: 2.56s\tremaining: 34.1s\n",
      "14:\tlearn: 0.0673442\ttotal: 2.67s\tremaining: 33s\n",
      "15:\tlearn: 0.0673240\ttotal: 2.78s\tremaining: 31.9s\n",
      "16:\tlearn: 0.0672990\ttotal: 2.88s\tremaining: 31.1s\n",
      "17:\tlearn: 0.0672827\ttotal: 2.99s\tremaining: 30.3s\n",
      "18:\tlearn: 0.0672676\ttotal: 3.1s\tremaining: 29.6s\n",
      "19:\tlearn: 0.0672430\ttotal: 3.21s\tremaining: 28.9s\n",
      "20:\tlearn: 0.0672218\ttotal: 3.32s\tremaining: 28.3s\n",
      "21:\tlearn: 0.0672081\ttotal: 3.42s\tremaining: 27.7s\n",
      "22:\tlearn: 0.0671892\ttotal: 3.53s\tremaining: 27.2s\n",
      "23:\tlearn: 0.0671691\ttotal: 3.64s\tremaining: 26.7s\n",
      "24:\tlearn: 0.0671500\ttotal: 3.75s\tremaining: 26.2s\n",
      "25:\tlearn: 0.0671282\ttotal: 3.86s\tremaining: 25.8s\n",
      "26:\tlearn: 0.0671164\ttotal: 3.97s\tremaining: 25.4s\n",
      "27:\tlearn: 0.0671006\ttotal: 4.08s\tremaining: 25s\n",
      "28:\tlearn: 0.0670908\ttotal: 4.19s\tremaining: 24.7s\n",
      "29:\tlearn: 0.0670841\ttotal: 4.29s\tremaining: 24.3s\n",
      "30:\tlearn: 0.0670691\ttotal: 4.4s\tremaining: 24s\n",
      "31:\tlearn: 0.0670538\ttotal: 4.51s\tremaining: 23.7s\n",
      "32:\tlearn: 0.0670446\ttotal: 4.62s\tremaining: 23.4s\n",
      "33:\tlearn: 0.0670287\ttotal: 4.72s\tremaining: 23.1s\n",
      "34:\tlearn: 0.0670116\ttotal: 4.83s\tremaining: 22.8s\n",
      "35:\tlearn: 0.0670044\ttotal: 4.94s\tremaining: 22.5s\n",
      "36:\tlearn: 0.0669846\ttotal: 5.06s\tremaining: 22.3s\n",
      "37:\tlearn: 0.0669775\ttotal: 5.16s\tremaining: 22s\n",
      "38:\tlearn: 0.0669664\ttotal: 5.27s\tremaining: 21.8s\n",
      "39:\tlearn: 0.0669574\ttotal: 5.38s\tremaining: 21.5s\n",
      "40:\tlearn: 0.0669436\ttotal: 5.49s\tremaining: 21.3s\n",
      "41:\tlearn: 0.0669317\ttotal: 5.59s\tremaining: 21s\n",
      "42:\tlearn: 0.0669177\ttotal: 5.69s\tremaining: 20.8s\n",
      "43:\tlearn: 0.0669062\ttotal: 5.8s\tremaining: 20.6s\n",
      "44:\tlearn: 0.0668908\ttotal: 5.9s\tremaining: 20.3s\n"
     ]
    },
    {
     "name": "stdout",
     "output_type": "stream",
     "text": [
      "45:\tlearn: 0.0668779\ttotal: 6.01s\tremaining: 20.1s\n",
      "46:\tlearn: 0.0668629\ttotal: 6.12s\tremaining: 19.9s\n",
      "47:\tlearn: 0.0668498\ttotal: 6.22s\tremaining: 19.7s\n",
      "48:\tlearn: 0.0668412\ttotal: 6.33s\tremaining: 19.5s\n",
      "49:\tlearn: 0.0668299\ttotal: 6.44s\tremaining: 19.3s\n",
      "50:\tlearn: 0.0668208\ttotal: 6.54s\tremaining: 19.1s\n",
      "51:\tlearn: 0.0668049\ttotal: 6.65s\tremaining: 18.9s\n",
      "52:\tlearn: 0.0667925\ttotal: 6.76s\tremaining: 18.7s\n",
      "53:\tlearn: 0.0667816\ttotal: 6.86s\tremaining: 18.5s\n",
      "54:\tlearn: 0.0667719\ttotal: 6.96s\tremaining: 18.4s\n",
      "55:\tlearn: 0.0667584\ttotal: 7.07s\tremaining: 18.2s\n",
      "56:\tlearn: 0.0667502\ttotal: 7.18s\tremaining: 18s\n",
      "57:\tlearn: 0.0667384\ttotal: 7.28s\tremaining: 17.8s\n",
      "58:\tlearn: 0.0667302\ttotal: 7.39s\tremaining: 17.7s\n",
      "59:\tlearn: 0.0667178\ttotal: 7.5s\tremaining: 17.5s\n",
      "60:\tlearn: 0.0667060\ttotal: 7.6s\tremaining: 17.3s\n",
      "61:\tlearn: 0.0666990\ttotal: 7.71s\tremaining: 17.2s\n",
      "62:\tlearn: 0.0666908\ttotal: 7.82s\tremaining: 17s\n",
      "63:\tlearn: 0.0666798\ttotal: 7.92s\tremaining: 16.8s\n",
      "64:\tlearn: 0.0666660\ttotal: 8.03s\tremaining: 16.7s\n",
      "65:\tlearn: 0.0666554\ttotal: 8.14s\tremaining: 16.5s\n",
      "66:\tlearn: 0.0666473\ttotal: 8.25s\tremaining: 16.4s\n",
      "67:\tlearn: 0.0666400\ttotal: 8.36s\tremaining: 16.2s\n",
      "68:\tlearn: 0.0666319\ttotal: 8.46s\tremaining: 16.1s\n",
      "69:\tlearn: 0.0666232\ttotal: 8.57s\tremaining: 15.9s\n",
      "70:\tlearn: 0.0666133\ttotal: 8.68s\tremaining: 15.8s\n",
      "71:\tlearn: 0.0666016\ttotal: 8.78s\tremaining: 15.6s\n",
      "72:\tlearn: 0.0665963\ttotal: 8.89s\tremaining: 15.5s\n",
      "73:\tlearn: 0.0665874\ttotal: 9s\tremaining: 15.3s\n",
      "74:\tlearn: 0.0665749\ttotal: 9.11s\tremaining: 15.2s\n",
      "75:\tlearn: 0.0665636\ttotal: 9.21s\tremaining: 15s\n",
      "76:\tlearn: 0.0665523\ttotal: 9.32s\tremaining: 14.9s\n",
      "77:\tlearn: 0.0665466\ttotal: 9.43s\tremaining: 14.8s\n",
      "78:\tlearn: 0.0665362\ttotal: 9.54s\tremaining: 14.6s\n",
      "79:\tlearn: 0.0665264\ttotal: 9.65s\tremaining: 14.5s\n",
      "80:\tlearn: 0.0665159\ttotal: 9.75s\tremaining: 14.3s\n",
      "81:\tlearn: 0.0665052\ttotal: 9.86s\tremaining: 14.2s\n",
      "82:\tlearn: 0.0664975\ttotal: 9.97s\tremaining: 14s\n",
      "83:\tlearn: 0.0664860\ttotal: 10.1s\tremaining: 13.9s\n",
      "84:\tlearn: 0.0664784\ttotal: 10.2s\tremaining: 13.8s\n",
      "85:\tlearn: 0.0664673\ttotal: 10.3s\tremaining: 13.6s\n",
      "86:\tlearn: 0.0664578\ttotal: 10.4s\tremaining: 13.5s\n",
      "87:\tlearn: 0.0664491\ttotal: 10.5s\tremaining: 13.4s\n",
      "88:\tlearn: 0.0664403\ttotal: 10.6s\tremaining: 13.2s\n",
      "89:\tlearn: 0.0664285\ttotal: 10.7s\tremaining: 13.1s\n",
      "90:\tlearn: 0.0664167\ttotal: 10.8s\tremaining: 13s\n",
      "91:\tlearn: 0.0664080\ttotal: 10.9s\tremaining: 12.8s\n",
      "92:\tlearn: 0.0663984\ttotal: 11s\tremaining: 12.7s\n",
      "93:\tlearn: 0.0663903\ttotal: 11.1s\tremaining: 12.6s\n",
      "94:\tlearn: 0.0663856\ttotal: 11.2s\tremaining: 12.4s\n",
      "95:\tlearn: 0.0663759\ttotal: 11.4s\tremaining: 12.3s\n",
      "96:\tlearn: 0.0663649\ttotal: 11.5s\tremaining: 12.2s\n",
      "97:\tlearn: 0.0663617\ttotal: 11.6s\tremaining: 12s\n",
      "98:\tlearn: 0.0663508\ttotal: 11.7s\tremaining: 11.9s\n",
      "99:\tlearn: 0.0663394\ttotal: 11.8s\tremaining: 11.8s\n",
      "100:\tlearn: 0.0663328\ttotal: 11.9s\tremaining: 11.7s\n",
      "101:\tlearn: 0.0663241\ttotal: 12s\tremaining: 11.5s\n",
      "102:\tlearn: 0.0663145\ttotal: 12.1s\tremaining: 11.4s\n",
      "103:\tlearn: 0.0663047\ttotal: 12.2s\tremaining: 11.3s\n",
      "104:\tlearn: 0.0662941\ttotal: 12.3s\tremaining: 11.2s\n",
      "105:\tlearn: 0.0662870\ttotal: 12.4s\tremaining: 11s\n",
      "106:\tlearn: 0.0662776\ttotal: 12.5s\tremaining: 10.9s\n",
      "107:\tlearn: 0.0662709\ttotal: 12.6s\tremaining: 10.8s\n",
      "108:\tlearn: 0.0662604\ttotal: 12.7s\tremaining: 10.6s\n",
      "109:\tlearn: 0.0662493\ttotal: 12.9s\tremaining: 10.5s\n",
      "110:\tlearn: 0.0662411\ttotal: 13s\tremaining: 10.4s\n",
      "111:\tlearn: 0.0662292\ttotal: 13.1s\tremaining: 10.3s\n",
      "112:\tlearn: 0.0662198\ttotal: 13.2s\tremaining: 10.2s\n",
      "113:\tlearn: 0.0662110\ttotal: 13.3s\tremaining: 10s\n",
      "114:\tlearn: 0.0662038\ttotal: 13.4s\tremaining: 9.91s\n",
      "115:\tlearn: 0.0661957\ttotal: 13.5s\tremaining: 9.79s\n",
      "116:\tlearn: 0.0661856\ttotal: 13.6s\tremaining: 9.67s\n",
      "117:\tlearn: 0.0661781\ttotal: 13.7s\tremaining: 9.55s\n",
      "118:\tlearn: 0.0661680\ttotal: 13.8s\tremaining: 9.42s\n",
      "119:\tlearn: 0.0661626\ttotal: 14s\tremaining: 9.3s\n",
      "120:\tlearn: 0.0661575\ttotal: 14.1s\tremaining: 9.18s\n",
      "121:\tlearn: 0.0661477\ttotal: 14.2s\tremaining: 9.06s\n",
      "122:\tlearn: 0.0661426\ttotal: 14.3s\tremaining: 8.94s\n",
      "123:\tlearn: 0.0661345\ttotal: 14.4s\tremaining: 8.81s\n",
      "124:\tlearn: 0.0661249\ttotal: 14.5s\tremaining: 8.69s\n",
      "125:\tlearn: 0.0661171\ttotal: 14.6s\tremaining: 8.57s\n",
      "126:\tlearn: 0.0661095\ttotal: 14.7s\tremaining: 8.45s\n",
      "127:\tlearn: 0.0661037\ttotal: 14.8s\tremaining: 8.33s\n",
      "128:\tlearn: 0.0660950\ttotal: 14.9s\tremaining: 8.21s\n",
      "129:\tlearn: 0.0660847\ttotal: 15s\tremaining: 8.09s\n",
      "130:\tlearn: 0.0660777\ttotal: 15.1s\tremaining: 7.97s\n",
      "131:\tlearn: 0.0660687\ttotal: 15.2s\tremaining: 7.85s\n",
      "132:\tlearn: 0.0660604\ttotal: 15.3s\tremaining: 7.73s\n",
      "133:\tlearn: 0.0660542\ttotal: 15.5s\tremaining: 7.61s\n",
      "134:\tlearn: 0.0660480\ttotal: 15.6s\tremaining: 7.49s\n",
      "135:\tlearn: 0.0660416\ttotal: 15.7s\tremaining: 7.37s\n",
      "136:\tlearn: 0.0660325\ttotal: 15.8s\tremaining: 7.25s\n",
      "137:\tlearn: 0.0660264\ttotal: 15.9s\tremaining: 7.13s\n",
      "138:\tlearn: 0.0660181\ttotal: 16s\tremaining: 7.02s\n",
      "139:\tlearn: 0.0660085\ttotal: 16.1s\tremaining: 6.9s\n",
      "140:\tlearn: 0.0660023\ttotal: 16.2s\tremaining: 6.78s\n",
      "141:\tlearn: 0.0659977\ttotal: 16.3s\tremaining: 6.66s\n",
      "142:\tlearn: 0.0659913\ttotal: 16.4s\tremaining: 6.54s\n",
      "143:\tlearn: 0.0659800\ttotal: 16.5s\tremaining: 6.42s\n",
      "144:\tlearn: 0.0659748\ttotal: 16.6s\tremaining: 6.31s\n",
      "145:\tlearn: 0.0659653\ttotal: 16.7s\tremaining: 6.19s\n",
      "146:\tlearn: 0.0659579\ttotal: 16.8s\tremaining: 6.07s\n",
      "147:\tlearn: 0.0659545\ttotal: 16.9s\tremaining: 5.95s\n",
      "148:\tlearn: 0.0659474\ttotal: 17.1s\tremaining: 5.84s\n",
      "149:\tlearn: 0.0659426\ttotal: 17.2s\tremaining: 5.72s\n",
      "150:\tlearn: 0.0659333\ttotal: 17.3s\tremaining: 5.6s\n",
      "151:\tlearn: 0.0659266\ttotal: 17.4s\tremaining: 5.49s\n",
      "152:\tlearn: 0.0659184\ttotal: 17.5s\tremaining: 5.37s\n",
      "153:\tlearn: 0.0659096\ttotal: 17.6s\tremaining: 5.25s\n",
      "154:\tlearn: 0.0658994\ttotal: 17.7s\tremaining: 5.14s\n",
      "155:\tlearn: 0.0658935\ttotal: 17.8s\tremaining: 5.02s\n",
      "156:\tlearn: 0.0658817\ttotal: 17.9s\tremaining: 4.9s\n",
      "157:\tlearn: 0.0658754\ttotal: 18s\tremaining: 4.79s\n",
      "158:\tlearn: 0.0658679\ttotal: 18.1s\tremaining: 4.67s\n",
      "159:\tlearn: 0.0658648\ttotal: 18.2s\tremaining: 4.56s\n",
      "160:\tlearn: 0.0658554\ttotal: 18.3s\tremaining: 4.44s\n",
      "161:\tlearn: 0.0658467\ttotal: 18.4s\tremaining: 4.33s\n",
      "162:\tlearn: 0.0658374\ttotal: 18.6s\tremaining: 4.21s\n",
      "163:\tlearn: 0.0658296\ttotal: 18.7s\tremaining: 4.09s\n",
      "164:\tlearn: 0.0658231\ttotal: 18.8s\tremaining: 3.98s\n",
      "165:\tlearn: 0.0658174\ttotal: 18.9s\tremaining: 3.87s\n",
      "166:\tlearn: 0.0658115\ttotal: 19s\tremaining: 3.75s\n",
      "167:\tlearn: 0.0658039\ttotal: 19.1s\tremaining: 3.63s\n",
      "168:\tlearn: 0.0658013\ttotal: 19.2s\tremaining: 3.52s\n",
      "169:\tlearn: 0.0657950\ttotal: 19.3s\tremaining: 3.41s\n",
      "170:\tlearn: 0.0657886\ttotal: 19.4s\tremaining: 3.29s\n",
      "171:\tlearn: 0.0657838\ttotal: 19.5s\tremaining: 3.18s\n",
      "172:\tlearn: 0.0657787\ttotal: 19.6s\tremaining: 3.06s\n",
      "173:\tlearn: 0.0657736\ttotal: 19.7s\tremaining: 2.95s\n",
      "174:\tlearn: 0.0657683\ttotal: 19.8s\tremaining: 2.83s\n",
      "175:\tlearn: 0.0657633\ttotal: 19.9s\tremaining: 2.72s\n",
      "176:\tlearn: 0.0657580\ttotal: 20.1s\tremaining: 2.61s\n",
      "177:\tlearn: 0.0657524\ttotal: 20.2s\tremaining: 2.49s\n",
      "178:\tlearn: 0.0657458\ttotal: 20.3s\tremaining: 2.38s\n",
      "179:\tlearn: 0.0657382\ttotal: 20.4s\tremaining: 2.27s\n",
      "180:\tlearn: 0.0657313\ttotal: 20.5s\tremaining: 2.15s\n",
      "181:\tlearn: 0.0657263\ttotal: 20.6s\tremaining: 2.04s\n",
      "182:\tlearn: 0.0657188\ttotal: 20.7s\tremaining: 1.92s\n",
      "183:\tlearn: 0.0657094\ttotal: 20.8s\tremaining: 1.81s\n",
      "184:\tlearn: 0.0657061\ttotal: 20.9s\tremaining: 1.7s\n",
      "185:\tlearn: 0.0656974\ttotal: 21s\tremaining: 1.58s\n",
      "186:\tlearn: 0.0656912\ttotal: 21.2s\tremaining: 1.47s\n",
      "187:\tlearn: 0.0656844\ttotal: 21.3s\tremaining: 1.36s\n",
      "188:\tlearn: 0.0656777\ttotal: 21.4s\tremaining: 1.24s\n",
      "189:\tlearn: 0.0656670\ttotal: 21.5s\tremaining: 1.13s\n",
      "190:\tlearn: 0.0656599\ttotal: 21.6s\tremaining: 1.02s\n",
      "191:\tlearn: 0.0656515\ttotal: 21.7s\tremaining: 904ms\n",
      "192:\tlearn: 0.0656440\ttotal: 21.8s\tremaining: 791ms\n",
      "193:\tlearn: 0.0656361\ttotal: 21.9s\tremaining: 678ms\n",
      "194:\tlearn: 0.0656282\ttotal: 22s\tremaining: 565ms\n",
      "195:\tlearn: 0.0656209\ttotal: 22.1s\tremaining: 452ms\n",
      "196:\tlearn: 0.0656148\ttotal: 22.2s\tremaining: 339ms\n",
      "197:\tlearn: 0.0656090\ttotal: 22.4s\tremaining: 226ms\n",
      "198:\tlearn: 0.0656016\ttotal: 22.5s\tremaining: 113ms\n",
      "199:\tlearn: 0.0655926\ttotal: 22.6s\tremaining: 0us\n",
      "0:\tlearn: 0.0680999\ttotal: 105ms\tremaining: 20.8s\n",
      "1:\tlearn: 0.0678906\ttotal: 209ms\tremaining: 20.7s\n",
      "2:\tlearn: 0.0677788\ttotal: 311ms\tremaining: 20.5s\n",
      "3:\tlearn: 0.0676993\ttotal: 421ms\tremaining: 20.6s\n",
      "4:\tlearn: 0.0676490\ttotal: 525ms\tremaining: 20.5s\n"
     ]
    },
    {
     "name": "stdout",
     "output_type": "stream",
     "text": [
      "5:\tlearn: 0.0676028\ttotal: 629ms\tremaining: 20.4s\n",
      "6:\tlearn: 0.0675671\ttotal: 740ms\tremaining: 20.4s\n",
      "7:\tlearn: 0.0675170\ttotal: 852ms\tremaining: 20.4s\n",
      "8:\tlearn: 0.0674973\ttotal: 959ms\tremaining: 20.3s\n",
      "9:\tlearn: 0.0674628\ttotal: 1.07s\tremaining: 20.3s\n",
      "10:\tlearn: 0.0674310\ttotal: 1.17s\tremaining: 20.2s\n",
      "11:\tlearn: 0.0674069\ttotal: 1.28s\tremaining: 20.1s\n",
      "12:\tlearn: 0.0673882\ttotal: 1.39s\tremaining: 20s\n",
      "13:\tlearn: 0.0673753\ttotal: 1.5s\tremaining: 19.9s\n",
      "14:\tlearn: 0.0673578\ttotal: 1.6s\tremaining: 19.8s\n",
      "15:\tlearn: 0.0673356\ttotal: 1.7s\tremaining: 19.6s\n",
      "16:\tlearn: 0.0673208\ttotal: 1.81s\tremaining: 19.5s\n",
      "17:\tlearn: 0.0673042\ttotal: 1.92s\tremaining: 19.4s\n",
      "18:\tlearn: 0.0672889\ttotal: 2.03s\tremaining: 19.3s\n",
      "19:\tlearn: 0.0672736\ttotal: 2.13s\tremaining: 19.2s\n",
      "20:\tlearn: 0.0672506\ttotal: 2.24s\tremaining: 19.1s\n",
      "21:\tlearn: 0.0672327\ttotal: 2.35s\tremaining: 19s\n",
      "22:\tlearn: 0.0672203\ttotal: 2.45s\tremaining: 18.9s\n",
      "23:\tlearn: 0.0672026\ttotal: 2.56s\tremaining: 18.8s\n",
      "24:\tlearn: 0.0671905\ttotal: 2.67s\tremaining: 18.7s\n",
      "25:\tlearn: 0.0671732\ttotal: 2.77s\tremaining: 18.6s\n",
      "26:\tlearn: 0.0671592\ttotal: 2.88s\tremaining: 18.4s\n",
      "27:\tlearn: 0.0671474\ttotal: 2.98s\tremaining: 18.3s\n",
      "28:\tlearn: 0.0671277\ttotal: 3.09s\tremaining: 18.2s\n",
      "29:\tlearn: 0.0671070\ttotal: 3.2s\tremaining: 18.1s\n",
      "30:\tlearn: 0.0670818\ttotal: 3.31s\tremaining: 18s\n",
      "31:\tlearn: 0.0670594\ttotal: 3.41s\tremaining: 17.9s\n",
      "32:\tlearn: 0.0670457\ttotal: 3.52s\tremaining: 17.8s\n",
      "33:\tlearn: 0.0670308\ttotal: 3.63s\tremaining: 17.7s\n",
      "34:\tlearn: 0.0670163\ttotal: 3.74s\tremaining: 17.6s\n",
      "35:\tlearn: 0.0669993\ttotal: 3.84s\tremaining: 17.5s\n",
      "36:\tlearn: 0.0669829\ttotal: 3.95s\tremaining: 17.4s\n",
      "37:\tlearn: 0.0669696\ttotal: 4.05s\tremaining: 17.3s\n",
      "38:\tlearn: 0.0669618\ttotal: 4.16s\tremaining: 17.2s\n",
      "39:\tlearn: 0.0669478\ttotal: 4.26s\tremaining: 17.1s\n",
      "40:\tlearn: 0.0669374\ttotal: 4.37s\tremaining: 16.9s\n",
      "41:\tlearn: 0.0669263\ttotal: 4.48s\tremaining: 16.8s\n",
      "42:\tlearn: 0.0669129\ttotal: 4.58s\tremaining: 16.7s\n",
      "43:\tlearn: 0.0668936\ttotal: 4.68s\tremaining: 16.6s\n",
      "44:\tlearn: 0.0668774\ttotal: 4.79s\tremaining: 16.5s\n",
      "45:\tlearn: 0.0668613\ttotal: 4.9s\tremaining: 16.4s\n",
      "46:\tlearn: 0.0668497\ttotal: 5.02s\tremaining: 16.3s\n",
      "47:\tlearn: 0.0668349\ttotal: 5.12s\tremaining: 16.2s\n",
      "48:\tlearn: 0.0668227\ttotal: 5.23s\tremaining: 16.1s\n",
      "49:\tlearn: 0.0668096\ttotal: 5.33s\tremaining: 16s\n",
      "50:\tlearn: 0.0668011\ttotal: 5.44s\tremaining: 15.9s\n",
      "51:\tlearn: 0.0667886\ttotal: 5.55s\tremaining: 15.8s\n",
      "52:\tlearn: 0.0667792\ttotal: 5.66s\tremaining: 15.7s\n",
      "53:\tlearn: 0.0667669\ttotal: 5.77s\tremaining: 15.6s\n",
      "54:\tlearn: 0.0667583\ttotal: 5.87s\tremaining: 15.5s\n",
      "55:\tlearn: 0.0667450\ttotal: 5.99s\tremaining: 15.4s\n",
      "56:\tlearn: 0.0667324\ttotal: 6.09s\tremaining: 15.3s\n",
      "57:\tlearn: 0.0667216\ttotal: 6.2s\tremaining: 15.2s\n",
      "58:\tlearn: 0.0667075\ttotal: 6.31s\tremaining: 15.1s\n",
      "59:\tlearn: 0.0667002\ttotal: 6.41s\tremaining: 15s\n",
      "60:\tlearn: 0.0666902\ttotal: 6.51s\tremaining: 14.8s\n",
      "61:\tlearn: 0.0666759\ttotal: 6.62s\tremaining: 14.7s\n",
      "62:\tlearn: 0.0666685\ttotal: 6.73s\tremaining: 14.6s\n",
      "63:\tlearn: 0.0666586\ttotal: 6.84s\tremaining: 14.5s\n",
      "64:\tlearn: 0.0666464\ttotal: 6.95s\tremaining: 14.4s\n",
      "65:\tlearn: 0.0666340\ttotal: 7.05s\tremaining: 14.3s\n",
      "66:\tlearn: 0.0666231\ttotal: 7.16s\tremaining: 14.2s\n",
      "67:\tlearn: 0.0666055\ttotal: 7.26s\tremaining: 14.1s\n",
      "68:\tlearn: 0.0665948\ttotal: 7.37s\tremaining: 14s\n",
      "69:\tlearn: 0.0665832\ttotal: 7.47s\tremaining: 13.9s\n",
      "70:\tlearn: 0.0665711\ttotal: 7.57s\tremaining: 13.8s\n",
      "71:\tlearn: 0.0665609\ttotal: 7.68s\tremaining: 13.7s\n",
      "72:\tlearn: 0.0665546\ttotal: 7.79s\tremaining: 13.5s\n",
      "73:\tlearn: 0.0665468\ttotal: 7.89s\tremaining: 13.4s\n",
      "74:\tlearn: 0.0665369\ttotal: 8s\tremaining: 13.3s\n",
      "75:\tlearn: 0.0665321\ttotal: 8.11s\tremaining: 13.2s\n",
      "76:\tlearn: 0.0665182\ttotal: 8.22s\tremaining: 13.1s\n",
      "77:\tlearn: 0.0665079\ttotal: 8.32s\tremaining: 13s\n",
      "78:\tlearn: 0.0664994\ttotal: 8.43s\tremaining: 12.9s\n",
      "79:\tlearn: 0.0664929\ttotal: 8.54s\tremaining: 12.8s\n",
      "80:\tlearn: 0.0664788\ttotal: 8.65s\tremaining: 12.7s\n",
      "81:\tlearn: 0.0664696\ttotal: 8.75s\tremaining: 12.6s\n",
      "82:\tlearn: 0.0664629\ttotal: 8.86s\tremaining: 12.5s\n",
      "83:\tlearn: 0.0664535\ttotal: 8.96s\tremaining: 12.4s\n",
      "84:\tlearn: 0.0664406\ttotal: 9.07s\tremaining: 12.3s\n",
      "85:\tlearn: 0.0664279\ttotal: 9.18s\tremaining: 12.2s\n",
      "86:\tlearn: 0.0664191\ttotal: 9.29s\tremaining: 12.1s\n",
      "87:\tlearn: 0.0664093\ttotal: 9.39s\tremaining: 12s\n",
      "88:\tlearn: 0.0664002\ttotal: 9.5s\tremaining: 11.8s\n",
      "89:\tlearn: 0.0663920\ttotal: 9.61s\tremaining: 11.7s\n",
      "90:\tlearn: 0.0663792\ttotal: 9.72s\tremaining: 11.6s\n",
      "91:\tlearn: 0.0663717\ttotal: 9.82s\tremaining: 11.5s\n",
      "92:\tlearn: 0.0663596\ttotal: 9.93s\tremaining: 11.4s\n",
      "93:\tlearn: 0.0663491\ttotal: 10s\tremaining: 11.3s\n",
      "94:\tlearn: 0.0663350\ttotal: 10.1s\tremaining: 11.2s\n",
      "95:\tlearn: 0.0663282\ttotal: 10.3s\tremaining: 11.1s\n",
      "96:\tlearn: 0.0663218\ttotal: 10.4s\tremaining: 11s\n",
      "97:\tlearn: 0.0663092\ttotal: 10.5s\tremaining: 10.9s\n",
      "98:\tlearn: 0.0662986\ttotal: 10.6s\tremaining: 10.8s\n",
      "99:\tlearn: 0.0662922\ttotal: 10.7s\tremaining: 10.7s\n",
      "100:\tlearn: 0.0662831\ttotal: 10.8s\tremaining: 10.6s\n",
      "101:\tlearn: 0.0662727\ttotal: 10.9s\tremaining: 10.5s\n",
      "102:\tlearn: 0.0662633\ttotal: 11s\tremaining: 10.4s\n",
      "103:\tlearn: 0.0662537\ttotal: 11.1s\tremaining: 10.3s\n",
      "104:\tlearn: 0.0662452\ttotal: 11.2s\tremaining: 10.1s\n",
      "105:\tlearn: 0.0662383\ttotal: 11.3s\tremaining: 10s\n",
      "106:\tlearn: 0.0662281\ttotal: 11.4s\tremaining: 9.93s\n",
      "107:\tlearn: 0.0662160\ttotal: 11.5s\tremaining: 9.82s\n",
      "108:\tlearn: 0.0662109\ttotal: 11.6s\tremaining: 9.72s\n",
      "109:\tlearn: 0.0662047\ttotal: 11.7s\tremaining: 9.61s\n",
      "110:\tlearn: 0.0661953\ttotal: 11.9s\tremaining: 9.51s\n",
      "111:\tlearn: 0.0661855\ttotal: 12s\tremaining: 9.4s\n",
      "112:\tlearn: 0.0661819\ttotal: 12.1s\tremaining: 9.29s\n",
      "113:\tlearn: 0.0661747\ttotal: 12.2s\tremaining: 9.19s\n",
      "114:\tlearn: 0.0661619\ttotal: 12.3s\tremaining: 9.08s\n",
      "115:\tlearn: 0.0661505\ttotal: 12.4s\tremaining: 8.97s\n",
      "116:\tlearn: 0.0661409\ttotal: 12.5s\tremaining: 8.86s\n",
      "117:\tlearn: 0.0661320\ttotal: 12.6s\tremaining: 8.76s\n",
      "118:\tlearn: 0.0661215\ttotal: 12.7s\tremaining: 8.65s\n",
      "119:\tlearn: 0.0661164\ttotal: 12.8s\tremaining: 8.54s\n",
      "120:\tlearn: 0.0661114\ttotal: 12.9s\tremaining: 8.44s\n",
      "121:\tlearn: 0.0661019\ttotal: 13s\tremaining: 8.33s\n",
      "122:\tlearn: 0.0660942\ttotal: 13.1s\tremaining: 8.22s\n",
      "123:\tlearn: 0.0660832\ttotal: 13.2s\tremaining: 8.12s\n",
      "124:\tlearn: 0.0660745\ttotal: 13.3s\tremaining: 8.01s\n",
      "125:\tlearn: 0.0660666\ttotal: 13.5s\tremaining: 7.9s\n",
      "126:\tlearn: 0.0660595\ttotal: 13.6s\tremaining: 7.79s\n",
      "127:\tlearn: 0.0660494\ttotal: 13.7s\tremaining: 7.69s\n",
      "128:\tlearn: 0.0660394\ttotal: 13.8s\tremaining: 7.58s\n",
      "129:\tlearn: 0.0660331\ttotal: 13.9s\tremaining: 7.47s\n",
      "130:\tlearn: 0.0660269\ttotal: 14s\tremaining: 7.37s\n",
      "131:\tlearn: 0.0660193\ttotal: 14.1s\tremaining: 7.26s\n",
      "132:\tlearn: 0.0660113\ttotal: 14.2s\tremaining: 7.16s\n",
      "133:\tlearn: 0.0660036\ttotal: 14.3s\tremaining: 7.05s\n",
      "134:\tlearn: 0.0659965\ttotal: 14.4s\tremaining: 6.94s\n",
      "135:\tlearn: 0.0659892\ttotal: 14.5s\tremaining: 6.84s\n",
      "136:\tlearn: 0.0659827\ttotal: 14.6s\tremaining: 6.73s\n",
      "137:\tlearn: 0.0659776\ttotal: 14.7s\tremaining: 6.62s\n",
      "138:\tlearn: 0.0659708\ttotal: 14.8s\tremaining: 6.51s\n",
      "139:\tlearn: 0.0659627\ttotal: 15s\tremaining: 6.41s\n",
      "140:\tlearn: 0.0659546\ttotal: 15.1s\tremaining: 6.3s\n",
      "141:\tlearn: 0.0659480\ttotal: 15.2s\tremaining: 6.19s\n",
      "142:\tlearn: 0.0659419\ttotal: 15.3s\tremaining: 6.09s\n",
      "143:\tlearn: 0.0659311\ttotal: 15.4s\tremaining: 5.98s\n",
      "144:\tlearn: 0.0659228\ttotal: 15.5s\tremaining: 5.88s\n",
      "145:\tlearn: 0.0659137\ttotal: 15.6s\tremaining: 5.77s\n",
      "146:\tlearn: 0.0659061\ttotal: 15.7s\tremaining: 5.66s\n",
      "147:\tlearn: 0.0659006\ttotal: 15.8s\tremaining: 5.56s\n",
      "148:\tlearn: 0.0658901\ttotal: 15.9s\tremaining: 5.46s\n",
      "149:\tlearn: 0.0658843\ttotal: 16.1s\tremaining: 5.35s\n",
      "150:\tlearn: 0.0658726\ttotal: 16.2s\tremaining: 5.25s\n",
      "151:\tlearn: 0.0658652\ttotal: 16.3s\tremaining: 5.14s\n",
      "152:\tlearn: 0.0658565\ttotal: 16.4s\tremaining: 5.03s\n",
      "153:\tlearn: 0.0658494\ttotal: 16.5s\tremaining: 4.92s\n",
      "154:\tlearn: 0.0658411\ttotal: 16.6s\tremaining: 4.82s\n",
      "155:\tlearn: 0.0658299\ttotal: 16.7s\tremaining: 4.71s\n",
      "156:\tlearn: 0.0658207\ttotal: 16.8s\tremaining: 4.6s\n",
      "157:\tlearn: 0.0658121\ttotal: 16.9s\tremaining: 4.5s\n",
      "158:\tlearn: 0.0658067\ttotal: 17s\tremaining: 4.39s\n",
      "159:\tlearn: 0.0657988\ttotal: 17.1s\tremaining: 4.28s\n",
      "160:\tlearn: 0.0657936\ttotal: 17.2s\tremaining: 4.18s\n",
      "161:\tlearn: 0.0657869\ttotal: 17.4s\tremaining: 4.07s\n",
      "162:\tlearn: 0.0657824\ttotal: 17.5s\tremaining: 3.96s\n",
      "163:\tlearn: 0.0657783\ttotal: 17.6s\tremaining: 3.86s\n",
      "164:\tlearn: 0.0657713\ttotal: 17.7s\tremaining: 3.75s\n",
      "165:\tlearn: 0.0657601\ttotal: 17.8s\tremaining: 3.64s\n"
     ]
    },
    {
     "name": "stdout",
     "output_type": "stream",
     "text": [
      "166:\tlearn: 0.0657575\ttotal: 17.9s\tremaining: 3.54s\n",
      "167:\tlearn: 0.0657526\ttotal: 18s\tremaining: 3.43s\n",
      "168:\tlearn: 0.0657463\ttotal: 18.1s\tremaining: 3.32s\n",
      "169:\tlearn: 0.0657395\ttotal: 18.2s\tremaining: 3.21s\n",
      "170:\tlearn: 0.0657288\ttotal: 18.3s\tremaining: 3.11s\n",
      "171:\tlearn: 0.0657191\ttotal: 18.4s\tremaining: 3s\n",
      "172:\tlearn: 0.0657139\ttotal: 18.5s\tremaining: 2.89s\n",
      "173:\tlearn: 0.0657074\ttotal: 18.6s\tremaining: 2.78s\n",
      "174:\tlearn: 0.0656998\ttotal: 18.7s\tremaining: 2.68s\n",
      "175:\tlearn: 0.0656933\ttotal: 18.8s\tremaining: 2.57s\n",
      "176:\tlearn: 0.0656888\ttotal: 19s\tremaining: 2.46s\n",
      "177:\tlearn: 0.0656851\ttotal: 19.1s\tremaining: 2.36s\n",
      "178:\tlearn: 0.0656795\ttotal: 19.2s\tremaining: 2.25s\n",
      "179:\tlearn: 0.0656737\ttotal: 19.3s\tremaining: 2.14s\n",
      "180:\tlearn: 0.0656705\ttotal: 19.4s\tremaining: 2.04s\n",
      "181:\tlearn: 0.0656645\ttotal: 19.5s\tremaining: 1.93s\n",
      "182:\tlearn: 0.0656585\ttotal: 19.6s\tremaining: 1.82s\n",
      "183:\tlearn: 0.0656536\ttotal: 19.7s\tremaining: 1.71s\n",
      "184:\tlearn: 0.0656466\ttotal: 19.8s\tremaining: 1.61s\n",
      "185:\tlearn: 0.0656420\ttotal: 19.9s\tremaining: 1.5s\n",
      "186:\tlearn: 0.0656351\ttotal: 20s\tremaining: 1.39s\n",
      "187:\tlearn: 0.0656271\ttotal: 20.1s\tremaining: 1.28s\n",
      "188:\tlearn: 0.0656214\ttotal: 20.2s\tremaining: 1.18s\n",
      "189:\tlearn: 0.0656145\ttotal: 20.3s\tremaining: 1.07s\n",
      "190:\tlearn: 0.0656090\ttotal: 20.4s\tremaining: 963ms\n",
      "191:\tlearn: 0.0656016\ttotal: 20.6s\tremaining: 856ms\n",
      "192:\tlearn: 0.0655952\ttotal: 20.7s\tremaining: 749ms\n",
      "193:\tlearn: 0.0655896\ttotal: 20.8s\tremaining: 642ms\n",
      "194:\tlearn: 0.0655843\ttotal: 20.9s\tremaining: 535ms\n",
      "195:\tlearn: 0.0655793\ttotal: 21s\tremaining: 428ms\n",
      "196:\tlearn: 0.0655744\ttotal: 21.1s\tremaining: 321ms\n",
      "197:\tlearn: 0.0655685\ttotal: 21.2s\tremaining: 214ms\n",
      "198:\tlearn: 0.0655628\ttotal: 21.3s\tremaining: 107ms\n",
      "199:\tlearn: 0.0655534\ttotal: 21.4s\tremaining: 0us\n"
     ]
    }
   ],
   "source": [
    "num_ensembles = 5\n",
    "y_pred = 0.0\n",
    "for i in range(num_ensembles):\n",
    "    # TODO(you): Use CV, tune hyperparameters\n",
    "    model = CatBoostRegressor(\n",
    "        iterations=200, learning_rate=0.03,\n",
    "        depth=6, l2_leaf_reg=3,\n",
    "        loss_function='MAE',\n",
    "        eval_metric='MAE',\n",
    "        random_seed=i)\n",
    "    model.fit(\n",
    "        X_train, y_train,\n",
    "        cat_features=cat_feature_inds)\n",
    "    y_pred += model.predict(x_test)\n",
    "y_pred /= num_ensembles"
   ]
  },
  {
   "cell_type": "code",
   "execution_count": 54,
   "metadata": {},
   "outputs": [
    {
     "name": "stdout",
     "output_type": "stream",
     "text": [
      "Predicting for: 201610 ... \n",
      "Predicting for: 201611 ... \n",
      "Predicting for: 201612 ... \n",
      "Predicting for: 201710 ... \n",
      "Predicting for: 201711 ... \n",
      "Predicting for: 201712 ... \n",
      "Done! Good luck with submission #1 :)\n"
     ]
    }
   ],
   "source": [
    "submission = pd.DataFrame({\n",
    "    'ParcelId': df_test['parcelid'],\n",
    "})\n",
    "test_dates = {\n",
    "    '201610': pd.Timestamp('2016-09-30'),\n",
    "    '201611': pd.Timestamp('2016-10-31'),\n",
    "    '201612': pd.Timestamp('2016-11-30'),\n",
    "    '201710': pd.Timestamp('2017-09-30'),\n",
    "    '201711': pd.Timestamp('2017-10-31'),\n",
    "    '201712': pd.Timestamp('2017-11-30')\n",
    "}\n",
    "for label, test_date in test_dates.items():\n",
    "    print(\"Predicting for: %s ... \" % (label))\n",
    "    submission[label] = y_pred\n",
    "\n",
    "submission_major = 1\n",
    "submission.to_csv(\n",
    "    'submission_%03d.csv' % (submission_major),\n",
    "    float_format='%.4f',\n",
    "    index=False)\n",
    "print(\"Done! Good luck with submission #%d :)\" % submission_major)"
   ]
  },
  {
   "cell_type": "code",
   "execution_count": null,
   "metadata": {},
   "outputs": [],
   "source": []
  },
  {
   "cell_type": "code",
   "execution_count": null,
   "metadata": {},
   "outputs": [],
   "source": []
  }
 ],
 "metadata": {
  "kernelspec": {
   "display_name": "Python 3",
   "language": "python",
   "name": "python3"
  },
  "language_info": {
   "codemirror_mode": {
    "name": "ipython",
    "version": 3
   },
   "file_extension": ".py",
   "mimetype": "text/x-python",
   "name": "python",
   "nbconvert_exporter": "python",
   "pygments_lexer": "ipython3",
   "version": "3.6.4"
  }
 },
 "nbformat": 4,
 "nbformat_minor": 2
}
