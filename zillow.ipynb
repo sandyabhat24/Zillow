{
 "cells": [
  {
   "cell_type": "markdown",
   "metadata": {},
   "source": [
    "## Background"
   ]
  },
  {
   "cell_type": "markdown",
   "metadata": {},
   "source": [
    "Zillow’s Zestimate home valuation has shaken up the U.S. real estate industry since first released 11 years ago.\n",
    "\n",
    "A home is often the largest and most expensive purchase a person makes in his or her lifetime. Ensuring homeowners have a trusted way to monitor this asset is incredibly important. The Zestimate was created to give consumers as much information as possible about homes and the housing market, marking the first time consumers had access to this type of home value information at no cost.\n",
    "\n",
    "“Zestimates” are estimated home values based on 7.5 million statistical and machine learning models that analyze hundreds of data points on each property. And, by continually improving the median margin of error (from 14% at the onset to 5% today), Zillow has since become established as one of the largest, most trusted marketplaces for real estate information in the U.S. and a leading example of impactful machine learning."
   ]
  },
  {
   "cell_type": "markdown",
   "metadata": {},
   "source": [
    "### Objective:"
   ]
  },
  {
   "cell_type": "markdown",
   "metadata": {},
   "source": [
    "Build a model to improve the Zestimate residual error. "
   ]
  },
  {
   "cell_type": "markdown",
   "metadata": {},
   "source": [
    "### Client"
   ]
  },
  {
   "cell_type": "code",
   "execution_count": 113,
   "metadata": {},
   "outputs": [],
   "source": [
    "import numpy as np # linear algebra\n",
    "import pandas as pd # data processing, CSV file I/O (e.g. pd.read_csv)\n",
    "import matplotlib.pyplot as plt\n",
    "import seaborn as sns\n",
    "color = sns.color_palette()\n",
    "\n",
    "%matplotlib inline"
   ]
  },
  {
   "cell_type": "markdown",
   "metadata": {},
   "source": [
    "#### Reading the dataset"
   ]
  },
  {
   "cell_type": "code",
   "execution_count": 114,
   "metadata": {
    "scrolled": true
   },
   "outputs": [
    {
     "name": "stderr",
     "output_type": "stream",
     "text": [
      "C:\\Users\\Lenovo\\Anaconda3\\lib\\site-packages\\IPython\\core\\interactiveshell.py:2728: DtypeWarning: Columns (22,32,34,49,55) have mixed types. Specify dtype option on import or set low_memory=False.\n",
      "  interactivity=interactivity, compiler=compiler, result=result)\n"
     ]
    }
   ],
   "source": [
    "train=pd.read_csv('C:/Users/Lenovo/Downloads/all/train_2016_v2.csv')\n",
    "properties=pd.read_csv('C:/Users/Lenovo/Downloads/all/properties_2016.csv')"
   ]
  },
  {
   "cell_type": "code",
   "execution_count": 115,
   "metadata": {},
   "outputs": [
    {
     "data": {
      "text/plain": [
       "Index(['parcelid', 'logerror', 'transactiondate'], dtype='object')"
      ]
     },
     "execution_count": 115,
     "metadata": {},
     "output_type": "execute_result"
    }
   ],
   "source": [
    "train.columns"
   ]
  },
  {
   "cell_type": "code",
   "execution_count": 116,
   "metadata": {},
   "outputs": [
    {
     "data": {
      "text/plain": [
       "Index(['parcelid', 'airconditioningtypeid', 'architecturalstyletypeid',\n",
       "       'basementsqft', 'bathroomcnt', 'bedroomcnt', 'buildingclasstypeid',\n",
       "       'buildingqualitytypeid', 'calculatedbathnbr', 'decktypeid',\n",
       "       'finishedfloor1squarefeet', 'calculatedfinishedsquarefeet',\n",
       "       'finishedsquarefeet12', 'finishedsquarefeet13', 'finishedsquarefeet15',\n",
       "       'finishedsquarefeet50', 'finishedsquarefeet6', 'fips', 'fireplacecnt',\n",
       "       'fullbathcnt', 'garagecarcnt', 'garagetotalsqft', 'hashottuborspa',\n",
       "       'heatingorsystemtypeid', 'latitude', 'longitude', 'lotsizesquarefeet',\n",
       "       'poolcnt', 'poolsizesum', 'pooltypeid10', 'pooltypeid2', 'pooltypeid7',\n",
       "       'propertycountylandusecode', 'propertylandusetypeid',\n",
       "       'propertyzoningdesc', 'rawcensustractandblock', 'regionidcity',\n",
       "       'regionidcounty', 'regionidneighborhood', 'regionidzip', 'roomcnt',\n",
       "       'storytypeid', 'threequarterbathnbr', 'typeconstructiontypeid',\n",
       "       'unitcnt', 'yardbuildingsqft17', 'yardbuildingsqft26', 'yearbuilt',\n",
       "       'numberofstories', 'fireplaceflag', 'structuretaxvaluedollarcnt',\n",
       "       'taxvaluedollarcnt', 'assessmentyear', 'landtaxvaluedollarcnt',\n",
       "       'taxamount', 'taxdelinquencyflag', 'taxdelinquencyyear',\n",
       "       'censustractandblock'],\n",
       "      dtype='object')"
      ]
     },
     "execution_count": 116,
     "metadata": {},
     "output_type": "execute_result"
    }
   ],
   "source": [
    "properties.columns"
   ]
  },
  {
   "cell_type": "code",
   "execution_count": 117,
   "metadata": {},
   "outputs": [
    {
     "data": {
      "text/html": [
       "<div>\n",
       "<style scoped>\n",
       "    .dataframe tbody tr th:only-of-type {\n",
       "        vertical-align: middle;\n",
       "    }\n",
       "\n",
       "    .dataframe tbody tr th {\n",
       "        vertical-align: top;\n",
       "    }\n",
       "\n",
       "    .dataframe thead th {\n",
       "        text-align: right;\n",
       "    }\n",
       "</style>\n",
       "<table border=\"1\" class=\"dataframe\">\n",
       "  <thead>\n",
       "    <tr style=\"text-align: right;\">\n",
       "      <th></th>\n",
       "      <th>parcelid</th>\n",
       "      <th>logerror</th>\n",
       "      <th>transactiondate</th>\n",
       "      <th>airconditioningtypeid</th>\n",
       "      <th>architecturalstyletypeid</th>\n",
       "      <th>basementsqft</th>\n",
       "      <th>bathroomcnt</th>\n",
       "      <th>bedroomcnt</th>\n",
       "      <th>buildingclasstypeid</th>\n",
       "      <th>buildingqualitytypeid</th>\n",
       "      <th>...</th>\n",
       "      <th>numberofstories</th>\n",
       "      <th>fireplaceflag</th>\n",
       "      <th>structuretaxvaluedollarcnt</th>\n",
       "      <th>taxvaluedollarcnt</th>\n",
       "      <th>assessmentyear</th>\n",
       "      <th>landtaxvaluedollarcnt</th>\n",
       "      <th>taxamount</th>\n",
       "      <th>taxdelinquencyflag</th>\n",
       "      <th>taxdelinquencyyear</th>\n",
       "      <th>censustractandblock</th>\n",
       "    </tr>\n",
       "  </thead>\n",
       "  <tbody>\n",
       "    <tr>\n",
       "      <th>0</th>\n",
       "      <td>11016594</td>\n",
       "      <td>0.0276</td>\n",
       "      <td>2016-01-01</td>\n",
       "      <td>1.0</td>\n",
       "      <td>NaN</td>\n",
       "      <td>NaN</td>\n",
       "      <td>2.0</td>\n",
       "      <td>3.0</td>\n",
       "      <td>NaN</td>\n",
       "      <td>4.0</td>\n",
       "      <td>...</td>\n",
       "      <td>NaN</td>\n",
       "      <td>NaN</td>\n",
       "      <td>122754.0</td>\n",
       "      <td>360170.0</td>\n",
       "      <td>2015.0</td>\n",
       "      <td>237416.0</td>\n",
       "      <td>6735.88</td>\n",
       "      <td>NaN</td>\n",
       "      <td>NaN</td>\n",
       "      <td>6.037107e+13</td>\n",
       "    </tr>\n",
       "    <tr>\n",
       "      <th>1</th>\n",
       "      <td>14366692</td>\n",
       "      <td>-0.1684</td>\n",
       "      <td>2016-01-01</td>\n",
       "      <td>NaN</td>\n",
       "      <td>NaN</td>\n",
       "      <td>NaN</td>\n",
       "      <td>3.5</td>\n",
       "      <td>4.0</td>\n",
       "      <td>NaN</td>\n",
       "      <td>NaN</td>\n",
       "      <td>...</td>\n",
       "      <td>NaN</td>\n",
       "      <td>NaN</td>\n",
       "      <td>346458.0</td>\n",
       "      <td>585529.0</td>\n",
       "      <td>2015.0</td>\n",
       "      <td>239071.0</td>\n",
       "      <td>10153.02</td>\n",
       "      <td>NaN</td>\n",
       "      <td>NaN</td>\n",
       "      <td>NaN</td>\n",
       "    </tr>\n",
       "    <tr>\n",
       "      <th>2</th>\n",
       "      <td>12098116</td>\n",
       "      <td>-0.0040</td>\n",
       "      <td>2016-01-01</td>\n",
       "      <td>1.0</td>\n",
       "      <td>NaN</td>\n",
       "      <td>NaN</td>\n",
       "      <td>3.0</td>\n",
       "      <td>2.0</td>\n",
       "      <td>NaN</td>\n",
       "      <td>4.0</td>\n",
       "      <td>...</td>\n",
       "      <td>NaN</td>\n",
       "      <td>NaN</td>\n",
       "      <td>61994.0</td>\n",
       "      <td>119906.0</td>\n",
       "      <td>2015.0</td>\n",
       "      <td>57912.0</td>\n",
       "      <td>11484.48</td>\n",
       "      <td>NaN</td>\n",
       "      <td>NaN</td>\n",
       "      <td>6.037464e+13</td>\n",
       "    </tr>\n",
       "    <tr>\n",
       "      <th>3</th>\n",
       "      <td>12643413</td>\n",
       "      <td>0.0218</td>\n",
       "      <td>2016-01-02</td>\n",
       "      <td>1.0</td>\n",
       "      <td>NaN</td>\n",
       "      <td>NaN</td>\n",
       "      <td>2.0</td>\n",
       "      <td>2.0</td>\n",
       "      <td>NaN</td>\n",
       "      <td>4.0</td>\n",
       "      <td>...</td>\n",
       "      <td>NaN</td>\n",
       "      <td>NaN</td>\n",
       "      <td>171518.0</td>\n",
       "      <td>244880.0</td>\n",
       "      <td>2015.0</td>\n",
       "      <td>73362.0</td>\n",
       "      <td>3048.74</td>\n",
       "      <td>NaN</td>\n",
       "      <td>NaN</td>\n",
       "      <td>6.037296e+13</td>\n",
       "    </tr>\n",
       "    <tr>\n",
       "      <th>4</th>\n",
       "      <td>14432541</td>\n",
       "      <td>-0.0050</td>\n",
       "      <td>2016-01-02</td>\n",
       "      <td>NaN</td>\n",
       "      <td>NaN</td>\n",
       "      <td>NaN</td>\n",
       "      <td>2.5</td>\n",
       "      <td>4.0</td>\n",
       "      <td>NaN</td>\n",
       "      <td>NaN</td>\n",
       "      <td>...</td>\n",
       "      <td>2.0</td>\n",
       "      <td>NaN</td>\n",
       "      <td>169574.0</td>\n",
       "      <td>434551.0</td>\n",
       "      <td>2015.0</td>\n",
       "      <td>264977.0</td>\n",
       "      <td>5488.96</td>\n",
       "      <td>NaN</td>\n",
       "      <td>NaN</td>\n",
       "      <td>6.059042e+13</td>\n",
       "    </tr>\n",
       "  </tbody>\n",
       "</table>\n",
       "<p>5 rows × 60 columns</p>\n",
       "</div>"
      ],
      "text/plain": [
       "   parcelid  logerror transactiondate  airconditioningtypeid  \\\n",
       "0  11016594    0.0276      2016-01-01                    1.0   \n",
       "1  14366692   -0.1684      2016-01-01                    NaN   \n",
       "2  12098116   -0.0040      2016-01-01                    1.0   \n",
       "3  12643413    0.0218      2016-01-02                    1.0   \n",
       "4  14432541   -0.0050      2016-01-02                    NaN   \n",
       "\n",
       "   architecturalstyletypeid  basementsqft  bathroomcnt  bedroomcnt  \\\n",
       "0                       NaN           NaN          2.0         3.0   \n",
       "1                       NaN           NaN          3.5         4.0   \n",
       "2                       NaN           NaN          3.0         2.0   \n",
       "3                       NaN           NaN          2.0         2.0   \n",
       "4                       NaN           NaN          2.5         4.0   \n",
       "\n",
       "   buildingclasstypeid  buildingqualitytypeid         ...           \\\n",
       "0                  NaN                    4.0         ...            \n",
       "1                  NaN                    NaN         ...            \n",
       "2                  NaN                    4.0         ...            \n",
       "3                  NaN                    4.0         ...            \n",
       "4                  NaN                    NaN         ...            \n",
       "\n",
       "   numberofstories  fireplaceflag  structuretaxvaluedollarcnt  \\\n",
       "0              NaN            NaN                    122754.0   \n",
       "1              NaN            NaN                    346458.0   \n",
       "2              NaN            NaN                     61994.0   \n",
       "3              NaN            NaN                    171518.0   \n",
       "4              2.0            NaN                    169574.0   \n",
       "\n",
       "   taxvaluedollarcnt  assessmentyear  landtaxvaluedollarcnt  taxamount  \\\n",
       "0           360170.0          2015.0               237416.0    6735.88   \n",
       "1           585529.0          2015.0               239071.0   10153.02   \n",
       "2           119906.0          2015.0                57912.0   11484.48   \n",
       "3           244880.0          2015.0                73362.0    3048.74   \n",
       "4           434551.0          2015.0               264977.0    5488.96   \n",
       "\n",
       "   taxdelinquencyflag  taxdelinquencyyear  censustractandblock  \n",
       "0                 NaN                 NaN         6.037107e+13  \n",
       "1                 NaN                 NaN                  NaN  \n",
       "2                 NaN                 NaN         6.037464e+13  \n",
       "3                 NaN                 NaN         6.037296e+13  \n",
       "4                 NaN                 NaN         6.059042e+13  \n",
       "\n",
       "[5 rows x 60 columns]"
      ]
     },
     "execution_count": 117,
     "metadata": {},
     "output_type": "execute_result"
    }
   ],
   "source": [
    "train_merge = pd.merge(train,properties,on=\"parcelid\",how=\"left\")\n",
    "train_merge.head()"
   ]
  },
  {
   "cell_type": "markdown",
   "metadata": {},
   "source": [
    "### Data wrangling:"
   ]
  },
  {
   "cell_type": "code",
   "execution_count": 118,
   "metadata": {},
   "outputs": [
    {
     "name": "stdout",
     "output_type": "stream",
     "text": [
      "<class 'pandas.core.frame.DataFrame'>\n",
      "Int64Index: 90275 entries, 0 to 90274\n",
      "Data columns (total 60 columns):\n",
      "parcelid                        90275 non-null int64\n",
      "logerror                        90275 non-null float64\n",
      "transactiondate                 90275 non-null object\n",
      "airconditioningtypeid           28781 non-null float64\n",
      "architecturalstyletypeid        261 non-null float64\n",
      "basementsqft                    43 non-null float64\n",
      "bathroomcnt                     90275 non-null float64\n",
      "bedroomcnt                      90275 non-null float64\n",
      "buildingclasstypeid             16 non-null float64\n",
      "buildingqualitytypeid           57364 non-null float64\n",
      "calculatedbathnbr               89093 non-null float64\n",
      "decktypeid                      658 non-null float64\n",
      "finishedfloor1squarefeet        6856 non-null float64\n",
      "calculatedfinishedsquarefeet    89614 non-null float64\n",
      "finishedsquarefeet12            85596 non-null float64\n",
      "finishedsquarefeet13            33 non-null float64\n",
      "finishedsquarefeet15            3564 non-null float64\n",
      "finishedsquarefeet50            6856 non-null float64\n",
      "finishedsquarefeet6             421 non-null float64\n",
      "fips                            90275 non-null float64\n",
      "fireplacecnt                    9607 non-null float64\n",
      "fullbathcnt                     89093 non-null float64\n",
      "garagecarcnt                    29937 non-null float64\n",
      "garagetotalsqft                 29937 non-null float64\n",
      "hashottuborspa                  2365 non-null object\n",
      "heatingorsystemtypeid           56080 non-null float64\n",
      "latitude                        90275 non-null float64\n",
      "longitude                       90275 non-null float64\n",
      "lotsizesquarefeet               80125 non-null float64\n",
      "poolcnt                         17901 non-null float64\n",
      "poolsizesum                     969 non-null float64\n",
      "pooltypeid10                    1161 non-null float64\n",
      "pooltypeid2                     1204 non-null float64\n",
      "pooltypeid7                     16697 non-null float64\n",
      "propertycountylandusecode       90274 non-null object\n",
      "propertylandusetypeid           90275 non-null float64\n",
      "propertyzoningdesc              58313 non-null object\n",
      "rawcensustractandblock          90275 non-null float64\n",
      "regionidcity                    88472 non-null float64\n",
      "regionidcounty                  90275 non-null float64\n",
      "regionidneighborhood            36012 non-null float64\n",
      "regionidzip                     90240 non-null float64\n",
      "roomcnt                         90275 non-null float64\n",
      "storytypeid                     43 non-null float64\n",
      "threequarterbathnbr             12009 non-null float64\n",
      "typeconstructiontypeid          299 non-null float64\n",
      "unitcnt                         58353 non-null float64\n",
      "yardbuildingsqft17              2646 non-null float64\n",
      "yardbuildingsqft26              95 non-null float64\n",
      "yearbuilt                       89519 non-null float64\n",
      "numberofstories                 20570 non-null float64\n",
      "fireplaceflag                   222 non-null object\n",
      "structuretaxvaluedollarcnt      89895 non-null float64\n",
      "taxvaluedollarcnt               90274 non-null float64\n",
      "assessmentyear                  90275 non-null float64\n",
      "landtaxvaluedollarcnt           90274 non-null float64\n",
      "taxamount                       90269 non-null float64\n",
      "taxdelinquencyflag              1783 non-null object\n",
      "taxdelinquencyyear              1783 non-null float64\n",
      "censustractandblock             89670 non-null float64\n",
      "dtypes: float64(53), int64(1), object(6)\n",
      "memory usage: 42.0+ MB\n"
     ]
    }
   ],
   "source": [
    "train_merge.info()"
   ]
  },
  {
   "cell_type": "markdown",
   "metadata": {},
   "source": [
    "It looks like lot of columns has misssing value. We need to do more investigation on whether to retain the columns or discard them."
   ]
  },
  {
   "cell_type": "code",
   "execution_count": 119,
   "metadata": {},
   "outputs": [
    {
     "name": "stderr",
     "output_type": "stream",
     "text": [
      "C:\\Users\\Lenovo\\Anaconda3\\lib\\site-packages\\ipykernel_launcher.py:4: DeprecationWarning: \n",
      ".ix is deprecated. Please use\n",
      ".loc for label based indexing or\n",
      ".iloc for positional indexing\n",
      "\n",
      "See the documentation here:\n",
      "http://pandas.pydata.org/pandas-docs/stable/indexing.html#ix-indexer-is-deprecated\n",
      "  after removing the cwd from sys.path.\n"
     ]
    },
    {
     "data": {
      "text/html": [
       "<div>\n",
       "<style scoped>\n",
       "    .dataframe tbody tr th:only-of-type {\n",
       "        vertical-align: middle;\n",
       "    }\n",
       "\n",
       "    .dataframe tbody tr th {\n",
       "        vertical-align: top;\n",
       "    }\n",
       "\n",
       "    .dataframe thead th {\n",
       "        text-align: right;\n",
       "    }\n",
       "</style>\n",
       "<table border=\"1\" class=\"dataframe\">\n",
       "  <thead>\n",
       "    <tr style=\"text-align: right;\">\n",
       "      <th></th>\n",
       "      <th>column_name</th>\n",
       "      <th>missing_count</th>\n",
       "      <th>missing_ratio</th>\n",
       "    </tr>\n",
       "  </thead>\n",
       "  <tbody>\n",
       "    <tr>\n",
       "      <th>5</th>\n",
       "      <td>basementsqft</td>\n",
       "      <td>90232</td>\n",
       "      <td>0.999524</td>\n",
       "    </tr>\n",
       "    <tr>\n",
       "      <th>8</th>\n",
       "      <td>buildingclasstypeid</td>\n",
       "      <td>90259</td>\n",
       "      <td>0.999823</td>\n",
       "    </tr>\n",
       "    <tr>\n",
       "      <th>15</th>\n",
       "      <td>finishedsquarefeet13</td>\n",
       "      <td>90242</td>\n",
       "      <td>0.999634</td>\n",
       "    </tr>\n",
       "    <tr>\n",
       "      <th>43</th>\n",
       "      <td>storytypeid</td>\n",
       "      <td>90232</td>\n",
       "      <td>0.999524</td>\n",
       "    </tr>\n",
       "  </tbody>\n",
       "</table>\n",
       "</div>"
      ],
      "text/plain": [
       "             column_name  missing_count  missing_ratio\n",
       "5           basementsqft          90232       0.999524\n",
       "8    buildingclasstypeid          90259       0.999823\n",
       "15  finishedsquarefeet13          90242       0.999634\n",
       "43           storytypeid          90232       0.999524"
      ]
     },
     "execution_count": 119,
     "metadata": {},
     "output_type": "execute_result"
    }
   ],
   "source": [
    "missing_df = train_merge.isnull().sum(axis=0).reset_index()\n",
    "missing_df.columns = ['column_name', 'missing_count']\n",
    "missing_df['missing_ratio'] = missing_df['missing_count'] / train_merge.shape[0]\n",
    "missing_df.ix[missing_df['missing_ratio']>0.999]\n",
    "\n"
   ]
  },
  {
   "cell_type": "markdown",
   "metadata": {},
   "source": [
    "Four columns have 99.9% missing values.\n",
    "\n",
    "Lets get statistical summary for the categorical or string variables:"
   ]
  },
  {
   "cell_type": "code",
   "execution_count": 130,
   "metadata": {},
   "outputs": [],
   "source": [
    "good_features=missing_df['column_name'].ix[missing_df['missing_ratio']<0.75]\n"
   ]
  },
  {
   "cell_type": "code",
   "execution_count": 121,
   "metadata": {},
   "outputs": [
    {
     "data": {
      "text/html": [
       "<div>\n",
       "<style scoped>\n",
       "    .dataframe tbody tr th:only-of-type {\n",
       "        vertical-align: middle;\n",
       "    }\n",
       "\n",
       "    .dataframe tbody tr th {\n",
       "        vertical-align: top;\n",
       "    }\n",
       "\n",
       "    .dataframe thead th {\n",
       "        text-align: right;\n",
       "    }\n",
       "</style>\n",
       "<table border=\"1\" class=\"dataframe\">\n",
       "  <thead>\n",
       "    <tr style=\"text-align: right;\">\n",
       "      <th></th>\n",
       "      <th>Categorical Feature</th>\n",
       "      <th>count</th>\n",
       "      <th>unique</th>\n",
       "      <th>top</th>\n",
       "      <th>freq</th>\n",
       "    </tr>\n",
       "  </thead>\n",
       "  <tbody>\n",
       "    <tr>\n",
       "      <th>0</th>\n",
       "      <td>transactiondate</td>\n",
       "      <td>90275</td>\n",
       "      <td>352</td>\n",
       "      <td>2016-07-29</td>\n",
       "      <td>910</td>\n",
       "    </tr>\n",
       "    <tr>\n",
       "      <th>1</th>\n",
       "      <td>hashottuborspa</td>\n",
       "      <td>2365</td>\n",
       "      <td>1</td>\n",
       "      <td>True</td>\n",
       "      <td>2365</td>\n",
       "    </tr>\n",
       "    <tr>\n",
       "      <th>2</th>\n",
       "      <td>propertycountylandusecode</td>\n",
       "      <td>90274</td>\n",
       "      <td>77</td>\n",
       "      <td>0100</td>\n",
       "      <td>30846</td>\n",
       "    </tr>\n",
       "    <tr>\n",
       "      <th>3</th>\n",
       "      <td>propertyzoningdesc</td>\n",
       "      <td>58313</td>\n",
       "      <td>1996</td>\n",
       "      <td>LAR1</td>\n",
       "      <td>7678</td>\n",
       "    </tr>\n",
       "    <tr>\n",
       "      <th>4</th>\n",
       "      <td>fireplaceflag</td>\n",
       "      <td>222</td>\n",
       "      <td>1</td>\n",
       "      <td>True</td>\n",
       "      <td>222</td>\n",
       "    </tr>\n",
       "    <tr>\n",
       "      <th>5</th>\n",
       "      <td>taxdelinquencyflag</td>\n",
       "      <td>1783</td>\n",
       "      <td>1</td>\n",
       "      <td>Y</td>\n",
       "      <td>1783</td>\n",
       "    </tr>\n",
       "  </tbody>\n",
       "</table>\n",
       "</div>"
      ],
      "text/plain": [
       "         Categorical Feature  count unique         top   freq\n",
       "0            transactiondate  90275    352  2016-07-29    910\n",
       "1             hashottuborspa   2365      1        True   2365\n",
       "2  propertycountylandusecode  90274     77        0100  30846\n",
       "3         propertyzoningdesc  58313   1996        LAR1   7678\n",
       "4              fireplaceflag    222      1        True    222\n",
       "5         taxdelinquencyflag   1783      1           Y   1783"
      ]
     },
     "execution_count": 121,
     "metadata": {},
     "output_type": "execute_result"
    }
   ],
   "source": [
    "describe = train_merge.describe(include=['O']).transpose().reset_index()\n",
    "describe.columns = ['Categorical Feature','count', 'unique', 'top', 'freq']\n",
    "describe"
   ]
  },
  {
   "cell_type": "code",
   "execution_count": 129,
   "metadata": {},
   "outputs": [
    {
     "name": "stderr",
     "output_type": "stream",
     "text": [
      "C:\\Users\\Lenovo\\Anaconda3\\lib\\site-packages\\numpy\\lib\\function_base.py:3183: RuntimeWarning: invalid value encountered in true_divide\n",
      "  c /= stddev[:, None]\n",
      "C:\\Users\\Lenovo\\Anaconda3\\lib\\site-packages\\numpy\\lib\\function_base.py:3184: RuntimeWarning: invalid value encountered in true_divide\n",
      "  c /= stddev[None, :]\n"
     ]
    },
    {
     "data": {
      "image/png": "[encoded data removed]",
      "text/plain": [
       "<matplotlib.figure.Figure at 0x228502db358>"
      ]
     },
     "metadata": {},
     "output_type": "display_data"
    }
   ],
   "source": [
    "# Let us just impute the missing values with mean values to compute correlation coefficients #\n",
    "mean_values = train_merge.mean(axis=0)\n",
    "train_merge_new=train_merge.fillna(mean_values, inplace=True)\n",
    "\n",
    "x_cols = [col for col in train_merge.columns if col not in ['logerror'] if train_merge[col].dtype=='float64']\n",
    "\n",
    "labels = []\n",
    "values = []\n",
    "for col in x_cols:\n",
    "    labels.append(col)\n",
    "    values.append(np.corrcoef(train_merge[col].values, train_merge.logerror.values)[0,1])\n",
    "corr_df = pd.DataFrame({'col_labels':labels, 'corr_values':values})\n",
    "corr_df = corr_df.sort_values(by='corr_values')\n",
    "    \n",
    "ind = np.arange(len(labels))\n",
    "width = 0.9\n",
    "fig, ax = plt.subplots(figsize=(12,40))\n",
    "rects = ax.barh(ind, np.array(corr_df.corr_values.values), color='y')\n",
    "ax.set_yticks(ind)\n",
    "ax.set_yticklabels(corr_df.col_labels.values, rotation='horizontal')\n",
    "ax.set_xlabel(\"Correlation coefficient\")\n",
    "ax.set_title(\"Correlation coefficient of the variables\")\n",
    "#autolabel(rects)\n",
    "plt.show()"
   ]
  },
  {
   "cell_type": "markdown",
   "metadata": {},
   "source": [
    "The correlation of the target variable with the given set of variables are low overall.\n",
    "\n",
    "There are few variables at the top of this graph without any correlation values. I guess they have only one unique value and hence no correlation value. Let us confirm the same."
   ]
  },
  {
   "cell_type": "code",
   "execution_count": 131,
   "metadata": {},
   "outputs": [
    {
     "name": "stdout",
     "output_type": "stream",
     "text": [
      "assessmentyear 1\n",
      "storytypeid 1\n",
      "pooltypeid2 1\n",
      "pooltypeid7 1\n",
      "pooltypeid10 1\n",
      "poolcnt 1\n",
      "decktypeid 1\n",
      "buildingclasstypeid 1\n"
     ]
    }
   ],
   "source": [
    "corr_zero_cols = ['assessmentyear', 'storytypeid', 'pooltypeid2', 'pooltypeid7', 'pooltypeid10', 'poolcnt', 'decktypeid', 'buildingclasstypeid']\n",
    "for col in corr_zero_cols:\n",
    "    print(col, len(train_merge[col].unique()))"
   ]
  },
  {
   "cell_type": "markdown",
   "metadata": {},
   "source": [
    "lets analyze features with moderate correlation."
   ]
  },
  {
   "cell_type": "code",
   "execution_count": 134,
   "metadata": {},
   "outputs": [
    {
     "name": "stderr",
     "output_type": "stream",
     "text": [
      "C:\\Users\\Lenovo\\Anaconda3\\lib\\site-packages\\ipykernel_launcher.py:1: DeprecationWarning: \n",
      ".ix is deprecated. Please use\n",
      ".loc for label based indexing or\n",
      ".iloc for positional indexing\n",
      "\n",
      "See the documentation here:\n",
      "http://pandas.pydata.org/pandas-docs/stable/indexing.html#ix-indexer-is-deprecated\n",
      "  \"\"\"Entry point for launching an IPython kernel.\n"
     ]
    },
    {
     "data": {
      "text/html": [
       "<div>\n",
       "<style scoped>\n",
       "    .dataframe tbody tr th:only-of-type {\n",
       "        vertical-align: middle;\n",
       "    }\n",
       "\n",
       "    .dataframe tbody tr th {\n",
       "        vertical-align: top;\n",
       "    }\n",
       "\n",
       "    .dataframe thead th {\n",
       "        text-align: right;\n",
       "    }\n",
       "</style>\n",
       "<table border=\"1\" class=\"dataframe\">\n",
       "  <thead>\n",
       "    <tr style=\"text-align: right;\">\n",
       "      <th></th>\n",
       "      <th>col_labels</th>\n",
       "      <th>corr_values</th>\n",
       "    </tr>\n",
       "  </thead>\n",
       "  <tbody>\n",
       "    <tr>\n",
       "      <th>21</th>\n",
       "      <td>heatingorsystemtypeid</td>\n",
       "      <td>-0.019648</td>\n",
       "    </tr>\n",
       "    <tr>\n",
       "      <th>45</th>\n",
       "      <td>structuretaxvaluedollarcnt</td>\n",
       "      <td>0.021935</td>\n",
       "    </tr>\n",
       "    <tr>\n",
       "      <th>4</th>\n",
       "      <td>bedroomcnt</td>\n",
       "      <td>0.025467</td>\n",
       "    </tr>\n",
       "    <tr>\n",
       "      <th>3</th>\n",
       "      <td>bathroomcnt</td>\n",
       "      <td>0.027889</td>\n",
       "    </tr>\n",
       "    <tr>\n",
       "      <th>18</th>\n",
       "      <td>fullbathcnt</td>\n",
       "      <td>0.028169</td>\n",
       "    </tr>\n",
       "    <tr>\n",
       "      <th>7</th>\n",
       "      <td>calculatedbathnbr</td>\n",
       "      <td>0.028758</td>\n",
       "    </tr>\n",
       "    <tr>\n",
       "      <th>10</th>\n",
       "      <td>calculatedfinishedsquarefeet</td>\n",
       "      <td>0.038341</td>\n",
       "    </tr>\n",
       "    <tr>\n",
       "      <th>11</th>\n",
       "      <td>finishedsquarefeet12</td>\n",
       "      <td>0.039248</td>\n",
       "    </tr>\n",
       "  </tbody>\n",
       "</table>\n",
       "</div>"
      ],
      "text/plain": [
       "                      col_labels  corr_values\n",
       "21         heatingorsystemtypeid    -0.019648\n",
       "45    structuretaxvaluedollarcnt     0.021935\n",
       "4                     bedroomcnt     0.025467\n",
       "3                    bathroomcnt     0.027889\n",
       "18                   fullbathcnt     0.028169\n",
       "7              calculatedbathnbr     0.028758\n",
       "10  calculatedfinishedsquarefeet     0.038341\n",
       "11          finishedsquarefeet12     0.039248"
      ]
     },
     "execution_count": 134,
     "metadata": {},
     "output_type": "execute_result"
    }
   ],
   "source": [
    "imp_features=corr_df.ix[(corr_df['corr_values']>0.02) | (corr_df['corr_values'] < -0.01)]\n",
    "imp_features"
   ]
  },
  {
   "cell_type": "code",
   "execution_count": 139,
   "metadata": {},
   "outputs": [
    {
     "data": {
      "text/html": [
       "<div>\n",
       "<style scoped>\n",
       "    .dataframe tbody tr th:only-of-type {\n",
       "        vertical-align: middle;\n",
       "    }\n",
       "\n",
       "    .dataframe tbody tr th {\n",
       "        vertical-align: top;\n",
       "    }\n",
       "\n",
       "    .dataframe thead th {\n",
       "        text-align: right;\n",
       "    }\n",
       "</style>\n",
       "<table border=\"1\" class=\"dataframe\">\n",
       "  <thead>\n",
       "    <tr style=\"text-align: right;\">\n",
       "      <th></th>\n",
       "      <th>heatingorsystemtypeid</th>\n",
       "      <th>structuretaxvaluedollarcnt</th>\n",
       "      <th>bedroomcnt</th>\n",
       "      <th>bathroomcnt</th>\n",
       "      <th>fullbathcnt</th>\n",
       "      <th>calculatedbathnbr</th>\n",
       "      <th>calculatedfinishedsquarefeet</th>\n",
       "      <th>finishedsquarefeet12</th>\n",
       "    </tr>\n",
       "  </thead>\n",
       "  <tbody>\n",
       "    <tr>\n",
       "      <th>heatingorsystemtypeid</th>\n",
       "      <td>1.000000</td>\n",
       "      <td>-0.157632</td>\n",
       "      <td>-0.129769</td>\n",
       "      <td>-0.249349</td>\n",
       "      <td>-0.273912</td>\n",
       "      <td>-0.257890</td>\n",
       "      <td>-0.189426</td>\n",
       "      <td>-0.197961</td>\n",
       "    </tr>\n",
       "    <tr>\n",
       "      <th>structuretaxvaluedollarcnt</th>\n",
       "      <td>-0.157632</td>\n",
       "      <td>1.000000</td>\n",
       "      <td>0.301622</td>\n",
       "      <td>0.581032</td>\n",
       "      <td>0.585495</td>\n",
       "      <td>0.604527</td>\n",
       "      <td>0.709404</td>\n",
       "      <td>0.727240</td>\n",
       "    </tr>\n",
       "    <tr>\n",
       "      <th>bedroomcnt</th>\n",
       "      <td>-0.129769</td>\n",
       "      <td>0.301622</td>\n",
       "      <td>1.000000</td>\n",
       "      <td>0.646120</td>\n",
       "      <td>0.585935</td>\n",
       "      <td>0.590046</td>\n",
       "      <td>0.615998</td>\n",
       "      <td>0.560120</td>\n",
       "    </tr>\n",
       "    <tr>\n",
       "      <th>bathroomcnt</th>\n",
       "      <td>-0.249349</td>\n",
       "      <td>0.581032</td>\n",
       "      <td>0.646120</td>\n",
       "      <td>1.000000</td>\n",
       "      <td>0.950312</td>\n",
       "      <td>0.965636</td>\n",
       "      <td>0.757887</td>\n",
       "      <td>0.731641</td>\n",
       "    </tr>\n",
       "    <tr>\n",
       "      <th>fullbathcnt</th>\n",
       "      <td>-0.273912</td>\n",
       "      <td>0.585495</td>\n",
       "      <td>0.585935</td>\n",
       "      <td>0.950312</td>\n",
       "      <td>1.000000</td>\n",
       "      <td>0.984130</td>\n",
       "      <td>0.774520</td>\n",
       "      <td>0.734254</td>\n",
       "    </tr>\n",
       "    <tr>\n",
       "      <th>calculatedbathnbr</th>\n",
       "      <td>-0.257890</td>\n",
       "      <td>0.604527</td>\n",
       "      <td>0.590046</td>\n",
       "      <td>0.965636</td>\n",
       "      <td>0.984130</td>\n",
       "      <td>1.000000</td>\n",
       "      <td>0.795247</td>\n",
       "      <td>0.758691</td>\n",
       "    </tr>\n",
       "    <tr>\n",
       "      <th>calculatedfinishedsquarefeet</th>\n",
       "      <td>-0.189426</td>\n",
       "      <td>0.709404</td>\n",
       "      <td>0.615998</td>\n",
       "      <td>0.757887</td>\n",
       "      <td>0.774520</td>\n",
       "      <td>0.795247</td>\n",
       "      <td>1.000000</td>\n",
       "      <td>0.958138</td>\n",
       "    </tr>\n",
       "    <tr>\n",
       "      <th>finishedsquarefeet12</th>\n",
       "      <td>-0.197961</td>\n",
       "      <td>0.727240</td>\n",
       "      <td>0.560120</td>\n",
       "      <td>0.731641</td>\n",
       "      <td>0.734254</td>\n",
       "      <td>0.758691</td>\n",
       "      <td>0.958138</td>\n",
       "      <td>1.000000</td>\n",
       "    </tr>\n",
       "  </tbody>\n",
       "</table>\n",
       "</div>"
      ],
      "text/plain": [
       "                              heatingorsystemtypeid  \\\n",
       "heatingorsystemtypeid                      1.000000   \n",
       "structuretaxvaluedollarcnt                -0.157632   \n",
       "bedroomcnt                                -0.129769   \n",
       "bathroomcnt                               -0.249349   \n",
       "fullbathcnt                               -0.273912   \n",
       "calculatedbathnbr                         -0.257890   \n",
       "calculatedfinishedsquarefeet              -0.189426   \n",
       "finishedsquarefeet12                      -0.197961   \n",
       "\n",
       "                              structuretaxvaluedollarcnt  bedroomcnt  \\\n",
       "heatingorsystemtypeid                          -0.157632   -0.129769   \n",
       "structuretaxvaluedollarcnt                      1.000000    0.301622   \n",
       "bedroomcnt                                      0.301622    1.000000   \n",
       "bathroomcnt                                     0.581032    0.646120   \n",
       "fullbathcnt                                     0.585495    0.585935   \n",
       "calculatedbathnbr                               0.604527    0.590046   \n",
       "calculatedfinishedsquarefeet                    0.709404    0.615998   \n",
       "finishedsquarefeet12                            0.727240    0.560120   \n",
       "\n",
       "                              bathroomcnt  fullbathcnt  calculatedbathnbr  \\\n",
       "heatingorsystemtypeid           -0.249349    -0.273912          -0.257890   \n",
       "structuretaxvaluedollarcnt       0.581032     0.585495           0.604527   \n",
       "bedroomcnt                       0.646120     0.585935           0.590046   \n",
       "bathroomcnt                      1.000000     0.950312           0.965636   \n",
       "fullbathcnt                      0.950312     1.000000           0.984130   \n",
       "calculatedbathnbr                0.965636     0.984130           1.000000   \n",
       "calculatedfinishedsquarefeet     0.757887     0.774520           0.795247   \n",
       "finishedsquarefeet12             0.731641     0.734254           0.758691   \n",
       "\n",
       "                              calculatedfinishedsquarefeet  \\\n",
       "heatingorsystemtypeid                            -0.189426   \n",
       "structuretaxvaluedollarcnt                        0.709404   \n",
       "bedroomcnt                                        0.615998   \n",
       "bathroomcnt                                       0.757887   \n",
       "fullbathcnt                                       0.774520   \n",
       "calculatedbathnbr                                 0.795247   \n",
       "calculatedfinishedsquarefeet                      1.000000   \n",
       "finishedsquarefeet12                              0.958138   \n",
       "\n",
       "                              finishedsquarefeet12  \n",
       "heatingorsystemtypeid                    -0.197961  \n",
       "structuretaxvaluedollarcnt                0.727240  \n",
       "bedroomcnt                                0.560120  \n",
       "bathroomcnt                               0.731641  \n",
       "fullbathcnt                               0.734254  \n",
       "calculatedbathnbr                         0.758691  \n",
       "calculatedfinishedsquarefeet              0.958138  \n",
       "finishedsquarefeet12                      1.000000  "
      ]
     },
     "execution_count": 139,
     "metadata": {},
     "output_type": "execute_result"
    },
    {
     "data": {
      "image/png": "[encoded data removed]",
      "text/plain": [
       "<matplotlib.figure.Figure at 0x22850954da0>"
      ]
     },
     "metadata": {},
     "output_type": "display_data"
    }
   ],
   "source": [
    "imp_columns = imp_features.col_labels.tolist()\n",
    "corr_df=train_merge[imp_columns]\n",
    "\n",
    "corr=corr_df.corr()\n",
    "corr = (corr)\n",
    "sns.heatmap(corr, xticklabels=corr.columns.values,\n",
    "            yticklabels=corr.columns.values)\n",
    "plt.title('Heatmap of Correlation Matrix')\n",
    "corr"
   ]
  },
  {
   "cell_type": "code",
   "execution_count": null,
   "metadata": {},
   "outputs": [],
   "source": [
    "Important variables are highly correlated."
   ]
  },
  {
   "cell_type": "markdown",
   "metadata": {},
   "source": [
    "'logerror' is the target variable for our prediction. So lets analyze this."
   ]
  },
  {
   "cell_type": "code",
   "execution_count": 140,
   "metadata": {},
   "outputs": [
    {
     "data": {
      "image/png": "[encoded data removed]",
      "text/plain": [
       "<matplotlib.figure.Figure at 0x2285092d080>"
      ]
     },
     "metadata": {},
     "output_type": "display_data"
    }
   ],
   "source": [
    "plt.figure(figsize=(8,6))\n",
    "plt.scatter(range(train_merge.shape[0]), np.sort(train_merge.logerror.values))\n",
    "plt.xlabel('index', fontsize=12)\n",
    "plt.ylabel('logerror', fontsize=12)\n",
    "plt.show()"
   ]
  },
  {
   "cell_type": "markdown",
   "metadata": {},
   "source": [
    "Scatter plot for the dependent variable shows there are outliers in the data. Lets plot the histogram to visualize the distribution."
   ]
  },
  {
   "cell_type": "code",
   "execution_count": 141,
   "metadata": {},
   "outputs": [
    {
     "data": {
      "image/png": "[encoded data removed]",
      "text/plain": [
       "<matplotlib.figure.Figure at 0x22850921438>"
      ]
     },
     "metadata": {},
     "output_type": "display_data"
    }
   ],
   "source": [
    "\n",
    "plt.figure(figsize=(12,8))\n",
    "sns.distplot(train_merge.logerror.values, bins=75, kde=False)\n",
    "plt.xlabel('logerror', fontsize=12)\n",
    "plt.show()"
   ]
  },
  {
   "cell_type": "markdown",
   "metadata": {},
   "source": [
    "'logerror' is normally distributed."
   ]
  },
  {
   "cell_type": "markdown",
   "metadata": {},
   "source": [
    "#### Analyzing transactiondate"
   ]
  },
  {
   "cell_type": "code",
   "execution_count": 142,
   "metadata": {},
   "outputs": [
    {
     "data": {
      "image/png": "[encoded data removed]",
      "text/plain": [
       "<matplotlib.figure.Figure at 0x22850a2f320>"
      ]
     },
     "metadata": {},
     "output_type": "display_data"
    }
   ],
   "source": [
    "month_order = ['Jan', 'Feb', 'Mar', 'Apr', 'May', 'Jun', 'Jul', 'Aug', 'Sep', 'Oct', 'Nov', 'Dec'] # for ordering in graph\n",
    "train_merge['transaction_month'] = train_merge['transactiondate'].apply(lambda x: month_order[int(x.split('-')[1]) - 1])\n",
    "month_df = pd.DataFrame(train_merge['transaction_month'].value_counts()).reset_index()\n",
    "month_df.columns = ['transaction_month', 'count']\n",
    "plt.figure(figsize=(12,6))\n",
    "sns.barplot(x='transaction_month', y='count', data=month_df,alpha=0.8, order=month_order)\n",
    "plt.xticks(rotation='vertical')\n",
    "plt.xlabel('Month of transaction', fontsize=12)\n",
    "plt.ylabel('Number of transactions', fontsize=12)\n",
    "plt.show()"
   ]
  },
  {
   "cell_type": "markdown",
   "metadata": {},
   "source": [
    "Most of the data in the train set is before October 15, 2016, which can be seen in the graph as well."
   ]
  },
  {
   "cell_type": "code",
   "execution_count": null,
   "metadata": {},
   "outputs": [],
   "source": []
  }
 ],
 "metadata": {
  "kernelspec": {
   "display_name": "Python 3",
   "language": "python",
   "name": "python3"
  },
  "language_info": {
   "codemirror_mode": {
    "name": "ipython",
    "version": 3
   },
   "file_extension": ".py",
   "mimetype": "text/x-python",
   "name": "python",
   "nbconvert_exporter": "python",
   "pygments_lexer": "ipython3",
   "version": "3.6.4"
  }
 },
 "nbformat": 4,
 "nbformat_minor": 2
}
